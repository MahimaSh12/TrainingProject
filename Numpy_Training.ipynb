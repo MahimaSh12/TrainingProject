{
 "cells": [
  {
   "cell_type": "code",
   "execution_count": 30,
   "id": "411b8bb6",
   "metadata": {},
   "outputs": [],
   "source": [
    "import numpy as np"
   ]
  },
  {
   "cell_type": "markdown",
   "id": "877a7640",
   "metadata": {},
   "source": [
    "## Datatypes and Attributes\n"
   ]
  },
  {
   "cell_type": "code",
   "execution_count": 2,
   "id": "6b1fe449",
   "metadata": {},
   "outputs": [
    {
     "data": {
      "text/plain": [
       "array([1, 2, 3])"
      ]
     },
     "execution_count": 2,
     "metadata": {},
     "output_type": "execute_result"
    }
   ],
   "source": [
    "# Main datatype of numpy is ndarray\n",
    "arr1=np.array([1,2,3])\n",
    "arr1"
   ]
  },
  {
   "cell_type": "code",
   "execution_count": 3,
   "id": "259724c0",
   "metadata": {},
   "outputs": [
    {
     "data": {
      "text/plain": [
       "array([[1, 2, 3],\n",
       "       [4, 5, 6]])"
      ]
     },
     "execution_count": 3,
     "metadata": {},
     "output_type": "execute_result"
    }
   ],
   "source": [
    "arr2=np.array([[1,2,3],\n",
    "               [4,5,6]])\n",
    "arr2"
   ]
  },
  {
   "cell_type": "code",
   "execution_count": 4,
   "id": "f3e1e048",
   "metadata": {},
   "outputs": [
    {
     "data": {
      "text/plain": [
       "array([[[ 1,  2,  3],\n",
       "        [ 4,  5,  6],\n",
       "        [ 7,  8,  9]],\n",
       "\n",
       "       [[11, 12, 13],\n",
       "        [14, 15, 16],\n",
       "        [17, 18, 19]]])"
      ]
     },
     "execution_count": 4,
     "metadata": {},
     "output_type": "execute_result"
    }
   ],
   "source": [
    "arr3=np.array([[[1,2,3],\n",
    "                [4,5,6],\n",
    "                [7,8,9]],\n",
    "               [[11,12,13],\n",
    "                [14,15,16],\n",
    "                [17,18,19]]])\n",
    "arr3"
   ]
  },
  {
   "cell_type": "code",
   "execution_count": 5,
   "id": "2b5e37fe",
   "metadata": {},
   "outputs": [
    {
     "data": {
      "text/plain": [
       "(numpy.ndarray, numpy.ndarray, numpy.ndarray)"
      ]
     },
     "execution_count": 5,
     "metadata": {},
     "output_type": "execute_result"
    }
   ],
   "source": [
    "type(arr1),type(arr2),type(arr3)"
   ]
  },
  {
   "cell_type": "code",
   "execution_count": 6,
   "id": "dd79c281",
   "metadata": {},
   "outputs": [
    {
     "data": {
      "text/plain": [
       "(1, 2, 3)"
      ]
     },
     "execution_count": 6,
     "metadata": {},
     "output_type": "execute_result"
    }
   ],
   "source": [
    "arr1.ndim,arr2.ndim,arr3.ndim"
   ]
  },
  {
   "cell_type": "code",
   "execution_count": 7,
   "id": "4f52f513",
   "metadata": {},
   "outputs": [
    {
     "data": {
      "text/plain": [
       "((3,), (2, 3), (2, 3, 3))"
      ]
     },
     "execution_count": 7,
     "metadata": {},
     "output_type": "execute_result"
    }
   ],
   "source": [
    "arr1.shape,arr2.shape,arr3.shape"
   ]
  },
  {
   "cell_type": "code",
   "execution_count": 8,
   "id": "b4c667c5",
   "metadata": {},
   "outputs": [
    {
     "data": {
      "text/plain": [
       "(dtype('int32'), dtype('int32'), dtype('int32'))"
      ]
     },
     "execution_count": 8,
     "metadata": {},
     "output_type": "execute_result"
    }
   ],
   "source": [
    "arr1.dtype,arr2.dtype,arr3.dtype"
   ]
  },
  {
   "cell_type": "code",
   "execution_count": 9,
   "id": "fd13abd2",
   "metadata": {},
   "outputs": [
    {
     "data": {
      "text/plain": [
       "(3, 6, 18)"
      ]
     },
     "execution_count": 9,
     "metadata": {},
     "output_type": "execute_result"
    }
   ],
   "source": [
    "arr1.size, arr2.size, arr3.size"
   ]
  },
  {
   "cell_type": "code",
   "execution_count": 31,
   "id": "0d501f0e",
   "metadata": {},
   "outputs": [],
   "source": [
    "import pandas as pd"
   ]
  },
  {
   "cell_type": "code",
   "execution_count": 11,
   "id": "9ebb35bf",
   "metadata": {},
   "outputs": [
    {
     "data": {
      "text/html": [
       "<div>\n",
       "<style scoped>\n",
       "    .dataframe tbody tr th:only-of-type {\n",
       "        vertical-align: middle;\n",
       "    }\n",
       "\n",
       "    .dataframe tbody tr th {\n",
       "        vertical-align: top;\n",
       "    }\n",
       "\n",
       "    .dataframe thead th {\n",
       "        text-align: right;\n",
       "    }\n",
       "</style>\n",
       "<table border=\"1\" class=\"dataframe\">\n",
       "  <thead>\n",
       "    <tr style=\"text-align: right;\">\n",
       "      <th></th>\n",
       "      <th>0</th>\n",
       "      <th>1</th>\n",
       "      <th>2</th>\n",
       "    </tr>\n",
       "  </thead>\n",
       "  <tbody>\n",
       "    <tr>\n",
       "      <th>0</th>\n",
       "      <td>1</td>\n",
       "      <td>2</td>\n",
       "      <td>3</td>\n",
       "    </tr>\n",
       "    <tr>\n",
       "      <th>1</th>\n",
       "      <td>4</td>\n",
       "      <td>5</td>\n",
       "      <td>6</td>\n",
       "    </tr>\n",
       "  </tbody>\n",
       "</table>\n",
       "</div>"
      ],
      "text/plain": [
       "   0  1  2\n",
       "0  1  2  3\n",
       "1  4  5  6"
      ]
     },
     "execution_count": 11,
     "metadata": {},
     "output_type": "execute_result"
    }
   ],
   "source": [
    "df=pd.DataFrame(arr2)\n",
    "df"
   ]
  },
  {
   "cell_type": "code",
   "execution_count": 12,
   "id": "f51dbf66",
   "metadata": {},
   "outputs": [
    {
     "ename": "ValueError",
     "evalue": "Must pass 2-d input. shape=(2, 3, 3)",
     "output_type": "error",
     "traceback": [
      "\u001b[1;31m---------------------------------------------------------------------------\u001b[0m",
      "\u001b[1;31mValueError\u001b[0m                                Traceback (most recent call last)",
      "\u001b[1;32m<ipython-input-12-01f9cdd01865>\u001b[0m in \u001b[0;36m<module>\u001b[1;34m\u001b[0m\n\u001b[0;32m      1\u001b[0m \u001b[1;31m#Because dataframe is 2-Dimentional\u001b[0m\u001b[1;33m\u001b[0m\u001b[1;33m\u001b[0m\u001b[1;33m\u001b[0m\u001b[0m\n\u001b[1;32m----> 2\u001b[1;33m \u001b[0mdf2\u001b[0m\u001b[1;33m=\u001b[0m\u001b[0mpd\u001b[0m\u001b[1;33m.\u001b[0m\u001b[0mDataFrame\u001b[0m\u001b[1;33m(\u001b[0m\u001b[0marr3\u001b[0m\u001b[1;33m)\u001b[0m\u001b[1;33m\u001b[0m\u001b[1;33m\u001b[0m\u001b[0m\n\u001b[0m\u001b[0;32m      3\u001b[0m \u001b[0mdf2\u001b[0m\u001b[1;33m\u001b[0m\u001b[1;33m\u001b[0m\u001b[0m\n",
      "\u001b[1;32m~\\Desktop\\Myproject\\env\\lib\\site-packages\\pandas\\core\\frame.py\u001b[0m in \u001b[0;36m__init__\u001b[1;34m(self, data, index, columns, dtype, copy)\u001b[0m\n\u001b[0;32m    556\u001b[0m                 \u001b[0mmgr\u001b[0m \u001b[1;33m=\u001b[0m \u001b[0minit_dict\u001b[0m\u001b[1;33m(\u001b[0m\u001b[1;33m{\u001b[0m\u001b[0mdata\u001b[0m\u001b[1;33m.\u001b[0m\u001b[0mname\u001b[0m\u001b[1;33m:\u001b[0m \u001b[0mdata\u001b[0m\u001b[1;33m}\u001b[0m\u001b[1;33m,\u001b[0m \u001b[0mindex\u001b[0m\u001b[1;33m,\u001b[0m \u001b[0mcolumns\u001b[0m\u001b[1;33m,\u001b[0m \u001b[0mdtype\u001b[0m\u001b[1;33m=\u001b[0m\u001b[0mdtype\u001b[0m\u001b[1;33m)\u001b[0m\u001b[1;33m\u001b[0m\u001b[1;33m\u001b[0m\u001b[0m\n\u001b[0;32m    557\u001b[0m             \u001b[1;32melse\u001b[0m\u001b[1;33m:\u001b[0m\u001b[1;33m\u001b[0m\u001b[1;33m\u001b[0m\u001b[0m\n\u001b[1;32m--> 558\u001b[1;33m                 \u001b[0mmgr\u001b[0m \u001b[1;33m=\u001b[0m \u001b[0minit_ndarray\u001b[0m\u001b[1;33m(\u001b[0m\u001b[0mdata\u001b[0m\u001b[1;33m,\u001b[0m \u001b[0mindex\u001b[0m\u001b[1;33m,\u001b[0m \u001b[0mcolumns\u001b[0m\u001b[1;33m,\u001b[0m \u001b[0mdtype\u001b[0m\u001b[1;33m=\u001b[0m\u001b[0mdtype\u001b[0m\u001b[1;33m,\u001b[0m \u001b[0mcopy\u001b[0m\u001b[1;33m=\u001b[0m\u001b[0mcopy\u001b[0m\u001b[1;33m)\u001b[0m\u001b[1;33m\u001b[0m\u001b[1;33m\u001b[0m\u001b[0m\n\u001b[0m\u001b[0;32m    559\u001b[0m \u001b[1;33m\u001b[0m\u001b[0m\n\u001b[0;32m    560\u001b[0m         \u001b[1;31m# For data is list-like, or Iterable (will consume into list)\u001b[0m\u001b[1;33m\u001b[0m\u001b[1;33m\u001b[0m\u001b[1;33m\u001b[0m\u001b[0m\n",
      "\u001b[1;32m~\\Desktop\\Myproject\\env\\lib\\site-packages\\pandas\\core\\internals\\construction.py\u001b[0m in \u001b[0;36minit_ndarray\u001b[1;34m(values, index, columns, dtype, copy)\u001b[0m\n\u001b[0;32m    190\u001b[0m     \u001b[1;31m# by definition an array here\u001b[0m\u001b[1;33m\u001b[0m\u001b[1;33m\u001b[0m\u001b[1;33m\u001b[0m\u001b[0m\n\u001b[0;32m    191\u001b[0m     \u001b[1;31m# the dtypes will be coerced to a single dtype\u001b[0m\u001b[1;33m\u001b[0m\u001b[1;33m\u001b[0m\u001b[1;33m\u001b[0m\u001b[0m\n\u001b[1;32m--> 192\u001b[1;33m     \u001b[0mvalues\u001b[0m \u001b[1;33m=\u001b[0m \u001b[0m_prep_ndarray\u001b[0m\u001b[1;33m(\u001b[0m\u001b[0mvalues\u001b[0m\u001b[1;33m,\u001b[0m \u001b[0mcopy\u001b[0m\u001b[1;33m=\u001b[0m\u001b[0mcopy\u001b[0m\u001b[1;33m)\u001b[0m\u001b[1;33m\u001b[0m\u001b[1;33m\u001b[0m\u001b[0m\n\u001b[0m\u001b[0;32m    193\u001b[0m \u001b[1;33m\u001b[0m\u001b[0m\n\u001b[0;32m    194\u001b[0m     \u001b[1;32mif\u001b[0m \u001b[0mdtype\u001b[0m \u001b[1;32mis\u001b[0m \u001b[1;32mnot\u001b[0m \u001b[1;32mNone\u001b[0m \u001b[1;32mand\u001b[0m \u001b[1;32mnot\u001b[0m \u001b[0mis_dtype_equal\u001b[0m\u001b[1;33m(\u001b[0m\u001b[0mvalues\u001b[0m\u001b[1;33m.\u001b[0m\u001b[0mdtype\u001b[0m\u001b[1;33m,\u001b[0m \u001b[0mdtype\u001b[0m\u001b[1;33m)\u001b[0m\u001b[1;33m:\u001b[0m\u001b[1;33m\u001b[0m\u001b[1;33m\u001b[0m\u001b[0m\n",
      "\u001b[1;32m~\\Desktop\\Myproject\\env\\lib\\site-packages\\pandas\\core\\internals\\construction.py\u001b[0m in \u001b[0;36m_prep_ndarray\u001b[1;34m(values, copy)\u001b[0m\n\u001b[0;32m    326\u001b[0m         \u001b[0mvalues\u001b[0m \u001b[1;33m=\u001b[0m \u001b[0mvalues\u001b[0m\u001b[1;33m.\u001b[0m\u001b[0mreshape\u001b[0m\u001b[1;33m(\u001b[0m\u001b[1;33m(\u001b[0m\u001b[0mvalues\u001b[0m\u001b[1;33m.\u001b[0m\u001b[0mshape\u001b[0m\u001b[1;33m[\u001b[0m\u001b[1;36m0\u001b[0m\u001b[1;33m]\u001b[0m\u001b[1;33m,\u001b[0m \u001b[1;36m1\u001b[0m\u001b[1;33m)\u001b[0m\u001b[1;33m)\u001b[0m\u001b[1;33m\u001b[0m\u001b[1;33m\u001b[0m\u001b[0m\n\u001b[0;32m    327\u001b[0m     \u001b[1;32melif\u001b[0m \u001b[0mvalues\u001b[0m\u001b[1;33m.\u001b[0m\u001b[0mndim\u001b[0m \u001b[1;33m!=\u001b[0m \u001b[1;36m2\u001b[0m\u001b[1;33m:\u001b[0m\u001b[1;33m\u001b[0m\u001b[1;33m\u001b[0m\u001b[0m\n\u001b[1;32m--> 328\u001b[1;33m         \u001b[1;32mraise\u001b[0m \u001b[0mValueError\u001b[0m\u001b[1;33m(\u001b[0m\u001b[1;34mf\"Must pass 2-d input. shape={values.shape}\"\u001b[0m\u001b[1;33m)\u001b[0m\u001b[1;33m\u001b[0m\u001b[1;33m\u001b[0m\u001b[0m\n\u001b[0m\u001b[0;32m    329\u001b[0m \u001b[1;33m\u001b[0m\u001b[0m\n\u001b[0;32m    330\u001b[0m     \u001b[1;32mreturn\u001b[0m \u001b[0mvalues\u001b[0m\u001b[1;33m\u001b[0m\u001b[1;33m\u001b[0m\u001b[0m\n",
      "\u001b[1;31mValueError\u001b[0m: Must pass 2-d input. shape=(2, 3, 3)"
     ]
    }
   ],
   "source": [
    "#Because dataframe is 2-Dimentional\n",
    "df2=pd.DataFrame(arr3)\n",
    "df2"
   ]
  },
  {
   "cell_type": "code",
   "execution_count": 13,
   "id": "685fdb58",
   "metadata": {},
   "outputs": [
    {
     "data": {
      "text/plain": [
       "0    int32\n",
       "1    int32\n",
       "2    int32\n",
       "dtype: object"
      ]
     },
     "execution_count": 13,
     "metadata": {},
     "output_type": "execute_result"
    }
   ],
   "source": [
    "df.dtypes"
   ]
  },
  {
   "cell_type": "markdown",
   "id": "00d077bd",
   "metadata": {},
   "source": [
    "## Creating arrays and some random functions"
   ]
  },
  {
   "cell_type": "code",
   "execution_count": 14,
   "id": "59909953",
   "metadata": {},
   "outputs": [
    {
     "data": {
      "text/plain": [
       "array([1, 2, 3])"
      ]
     },
     "execution_count": 14,
     "metadata": {},
     "output_type": "execute_result"
    }
   ],
   "source": [
    "samp_array=np.array([1,2,3])\n",
    "samp_array"
   ]
  },
  {
   "cell_type": "code",
   "execution_count": 15,
   "id": "6420977e",
   "metadata": {},
   "outputs": [
    {
     "data": {
      "text/plain": [
       "array([[1., 1., 1., 1., 1.],\n",
       "       [1., 1., 1., 1., 1.],\n",
       "       [1., 1., 1., 1., 1.]])"
      ]
     },
     "execution_count": 15,
     "metadata": {},
     "output_type": "execute_result"
    }
   ],
   "source": [
    "#using shift+tab know more about using docstring\n",
    "#when entering size always use a bracket\n",
    "ones=np.ones((3,5))\n",
    "ones"
   ]
  },
  {
   "cell_type": "code",
   "execution_count": 16,
   "id": "f19a3d45",
   "metadata": {},
   "outputs": [
    {
     "data": {
      "text/plain": [
       "array([[0., 0.],\n",
       "       [0., 0.],\n",
       "       [0., 0.],\n",
       "       [0., 0.]])"
      ]
     },
     "execution_count": 16,
     "metadata": {},
     "output_type": "execute_result"
    }
   ],
   "source": [
    "val_zero=np.zeros((4,2))\n",
    "val_zero"
   ]
  },
  {
   "cell_type": "code",
   "execution_count": 17,
   "id": "2ab5f6ed",
   "metadata": {},
   "outputs": [
    {
     "data": {
      "text/plain": [
       "array([ 0,  2,  4,  6,  8, 10])"
      ]
     },
     "execution_count": 17,
     "metadata": {},
     "output_type": "execute_result"
    }
   ],
   "source": [
    "rang_arr=np.arange(0, 12,2)\n",
    "rang_arr"
   ]
  },
  {
   "cell_type": "code",
   "execution_count": 18,
   "id": "7548502a",
   "metadata": {},
   "outputs": [
    {
     "data": {
      "text/plain": [
       "array([[ 6,  7, 13, 13, 10],\n",
       "       [ 3, 14, 12, 10, 12],\n",
       "       [10, 11,  4,  6, 11]])"
      ]
     },
     "execution_count": 18,
     "metadata": {},
     "output_type": "execute_result"
    }
   ],
   "source": [
    "rand_array=np.random.randint(3, 15, size=(3, 5))\n",
    "rand_array"
   ]
  },
  {
   "cell_type": "code",
   "execution_count": 19,
   "id": "fe7d0283",
   "metadata": {},
   "outputs": [
    {
     "data": {
      "text/plain": [
       "0.8696985888175645"
      ]
     },
     "execution_count": 19,
     "metadata": {},
     "output_type": "execute_result"
    }
   ],
   "source": [
    "random_val=np.random.random()\n",
    "random_val"
   ]
  },
  {
   "cell_type": "code",
   "execution_count": 20,
   "id": "a13f5e19",
   "metadata": {},
   "outputs": [
    {
     "data": {
      "text/plain": [
       "array([[0.14058628, 0.02560541, 0.30345688, 0.80386718],\n",
       "       [0.95671173, 0.00339054, 0.7018313 , 0.57238557]])"
      ]
     },
     "execution_count": 20,
     "metadata": {},
     "output_type": "execute_result"
    }
   ],
   "source": [
    "random_arr=np.random.random((2,4))\n",
    "random_arr"
   ]
  },
  {
   "cell_type": "code",
   "execution_count": 21,
   "id": "dc1f527b",
   "metadata": {},
   "outputs": [
    {
     "data": {
      "text/plain": [
       "array([[0.59713248, 0.08546144, 0.85125881, 0.15077413, 0.29048527],\n",
       "       [0.94163191, 0.95408033, 0.4877089 , 0.68158833, 0.0194521 ],\n",
       "       [0.46106541, 0.84636387, 0.87439327, 0.87914677, 0.35862646],\n",
       "       [0.65432949, 0.76989156, 0.71569662, 0.59470251, 0.46745904]])"
      ]
     },
     "execution_count": 21,
     "metadata": {},
     "output_type": "execute_result"
    }
   ],
   "source": [
    "randarr=np.random.rand(4,5)\n",
    "randarr"
   ]
  },
  {
   "cell_type": "code",
   "execution_count": 22,
   "id": "b2c31c29",
   "metadata": {},
   "outputs": [
    {
     "data": {
      "text/plain": [
       "array([[ 8, 11,  8],\n",
       "       [10, 11,  9],\n",
       "       [ 9,  4, 11],\n",
       "       [ 8,  4, 11],\n",
       "       [12,  4, 13]])"
      ]
     },
     "execution_count": 22,
     "metadata": {},
     "output_type": "execute_result"
    }
   ],
   "source": [
    "#Pseudo-random Numbers\n",
    "#anynumber  can be inside seed bracket that willl hold the current array\n",
    "np.random.seed(65)\n",
    "randomm_arr=np.random.randint(3,15,size=(5,3))\n",
    "randomm_arr"
   ]
  },
  {
   "cell_type": "code",
   "execution_count": 23,
   "id": "5a0e380d",
   "metadata": {},
   "outputs": [
    {
     "data": {
      "text/plain": [
       "array([[0.07630829, 0.77991879, 0.43840923, 0.72346518, 0.97798951],\n",
       "       [0.53849587, 0.50112046, 0.07205113, 0.26843898, 0.4998825 ],\n",
       "       [0.67923   , 0.80373904, 0.38094113, 0.06593635, 0.2881456 ]])"
      ]
     },
     "execution_count": 23,
     "metadata": {},
     "output_type": "execute_result"
    }
   ],
   "source": [
    "np.random.seed(7)\n",
    "randomm=np.random.random((3,5))\n",
    "randomm"
   ]
  },
  {
   "cell_type": "code",
   "execution_count": 24,
   "id": "71303063",
   "metadata": {},
   "outputs": [
    {
     "data": {
      "text/plain": [
       "(3, 5)"
      ]
     },
     "execution_count": 24,
     "metadata": {},
     "output_type": "execute_result"
    }
   ],
   "source": [
    "randomm.shape"
   ]
  },
  {
   "cell_type": "code",
   "execution_count": 25,
   "id": "85c32c66",
   "metadata": {},
   "outputs": [
    {
     "data": {
      "text/plain": [
       "15"
      ]
     },
     "execution_count": 25,
     "metadata": {},
     "output_type": "execute_result"
    }
   ],
   "source": [
    "randomm.size"
   ]
  },
  {
   "cell_type": "markdown",
   "id": "230bf05c",
   "metadata": {},
   "source": [
    "## Viewing arrays and matrices"
   ]
  },
  {
   "cell_type": "code",
   "execution_count": 26,
   "id": "a8a91436",
   "metadata": {},
   "outputs": [
    {
     "data": {
      "text/plain": [
       "array([[ 4,  9,  6,  3],\n",
       "       [ 3,  7,  7, 12],\n",
       "       [ 9,  7,  8,  9]])"
      ]
     },
     "execution_count": 26,
     "metadata": {},
     "output_type": "execute_result"
    }
   ],
   "source": [
    "#more then one dimentional is called  Matrices\n",
    "np.random.seed(7)\n",
    "arr_rand=np.random.randint(14,size=(3,4))\n",
    "arr_rand"
   ]
  },
  {
   "cell_type": "code",
   "execution_count": 27,
   "id": "499db102",
   "metadata": {},
   "outputs": [
    {
     "data": {
      "text/plain": [
       "array([ 3,  4,  6,  7,  8,  9, 12])"
      ]
     },
     "execution_count": 27,
     "metadata": {},
     "output_type": "execute_result"
    }
   ],
   "source": [
    "np.unique(arr_rand)"
   ]
  },
  {
   "cell_type": "code",
   "execution_count": 28,
   "id": "75fd5f78",
   "metadata": {},
   "outputs": [
    {
     "data": {
      "text/plain": [
       "array([ 3,  7,  7, 12])"
      ]
     },
     "execution_count": 28,
     "metadata": {},
     "output_type": "execute_result"
    }
   ],
   "source": [
    "arr_rand[1]"
   ]
  },
  {
   "cell_type": "code",
   "execution_count": 29,
   "id": "bcfd38e7",
   "metadata": {},
   "outputs": [
    {
     "data": {
      "text/plain": [
       "array([[[[ 3, 14, 13,  6,  6,  0],\n",
       "         [ 9,  8,  4,  7, 14, 11],\n",
       "         [ 0, 14,  0,  7, 12,  1],\n",
       "         [ 5,  7,  0, 11, 12, 13]],\n",
       "\n",
       "        [[11,  1, 14,  4,  6, 13],\n",
       "         [ 2, 14,  9,  9, 10,  9],\n",
       "         [ 9, 14,  1,  2,  7,  0],\n",
       "         [14,  5, 10,  0,  0,  4]],\n",
       "\n",
       "        [[14,  4,  9,  3, 11,  2],\n",
       "         [ 4,  6,  9,  3,  3,  2],\n",
       "         [ 1,  5,  7,  4, 12, 13],\n",
       "         [14, 14, 11, 11,  3, 12]]],\n",
       "\n",
       "\n",
       "       [[[ 1,  7,  3, 11, 14, 11],\n",
       "         [13,  1,  9,  5,  7,  0],\n",
       "         [14, 14, 10,  9,  6,  0],\n",
       "         [ 5,  2, 13, 11,  8, 13]],\n",
       "\n",
       "        [[ 6, 11,  8,  0, 12, 12],\n",
       "         [ 5, 14, 14,  2,  0,  7],\n",
       "         [ 7,  6, 11,  0,  0,  8],\n",
       "         [10, 12, 14,  5, 14, 11]],\n",
       "\n",
       "        [[ 5,  9,  6,  4,  5,  2],\n",
       "         [12, 11, 13,  8,  8,  1],\n",
       "         [12,  6,  3,  4,  1,  8],\n",
       "         [ 0,  2, 13, 12, 11,  2]]]])"
      ]
     },
     "execution_count": 29,
     "metadata": {},
     "output_type": "execute_result"
    }
   ],
   "source": [
    "np.random.seed(5)\n",
    "a1=np.random.randint(15,size=(2,3,4,6))\n",
    "a1"
   ]
  },
  {
   "cell_type": "code",
   "execution_count": 30,
   "id": "cd952c32",
   "metadata": {},
   "outputs": [
    {
     "data": {
      "text/plain": [
       "((2, 3, 4, 6), 4)"
      ]
     },
     "execution_count": 30,
     "metadata": {},
     "output_type": "execute_result"
    }
   ],
   "source": [
    "a1.shape,a1.ndim"
   ]
  },
  {
   "cell_type": "code",
   "execution_count": 31,
   "id": "67634e53",
   "metadata": {},
   "outputs": [
    {
     "data": {
      "text/plain": [
       "array([[[[ 3, 14, 13,  6,  6],\n",
       "         [ 9,  8,  4,  7, 14],\n",
       "         [ 0, 14,  0,  7, 12],\n",
       "         [ 5,  7,  0, 11, 12]],\n",
       "\n",
       "        [[11,  1, 14,  4,  6],\n",
       "         [ 2, 14,  9,  9, 10],\n",
       "         [ 9, 14,  1,  2,  7],\n",
       "         [14,  5, 10,  0,  0]],\n",
       "\n",
       "        [[14,  4,  9,  3, 11],\n",
       "         [ 4,  6,  9,  3,  3],\n",
       "         [ 1,  5,  7,  4, 12],\n",
       "         [14, 14, 11, 11,  3]]],\n",
       "\n",
       "\n",
       "       [[[ 1,  7,  3, 11, 14],\n",
       "         [13,  1,  9,  5,  7],\n",
       "         [14, 14, 10,  9,  6],\n",
       "         [ 5,  2, 13, 11,  8]],\n",
       "\n",
       "        [[ 6, 11,  8,  0, 12],\n",
       "         [ 5, 14, 14,  2,  0],\n",
       "         [ 7,  6, 11,  0,  0],\n",
       "         [10, 12, 14,  5, 14]],\n",
       "\n",
       "        [[ 5,  9,  6,  4,  5],\n",
       "         [12, 11, 13,  8,  8],\n",
       "         [12,  6,  3,  4,  1],\n",
       "         [ 0,  2, 13, 12, 11]]]])"
      ]
     },
     "execution_count": 31,
     "metadata": {},
     "output_type": "execute_result"
    }
   ],
   "source": [
    "#first 5 numbers of the innermost arrays\n",
    "a1[:,:,:,:5]"
   ]
  },
  {
   "cell_type": "code",
   "execution_count": 32,
   "id": "331cf655",
   "metadata": {},
   "outputs": [
    {
     "data": {
      "text/plain": [
       "array([[[[ 3, 14, 13,  6,  6,  0],\n",
       "         [ 9,  8,  4,  7, 14, 11],\n",
       "         [ 0, 14,  0,  7, 12,  1],\n",
       "         [ 5,  7,  0, 11, 12, 13]],\n",
       "\n",
       "        [[11,  1, 14,  4,  6, 13],\n",
       "         [ 2, 14,  9,  9, 10,  9],\n",
       "         [ 9, 14,  1,  2,  7,  0],\n",
       "         [14,  5, 10,  0,  0,  4]],\n",
       "\n",
       "        [[14,  4,  9,  3, 11,  2],\n",
       "         [ 4,  6,  9,  3,  3,  2],\n",
       "         [ 1,  5,  7,  4, 12, 13],\n",
       "         [14, 14, 11, 11,  3, 12]]],\n",
       "\n",
       "\n",
       "       [[[ 1,  7,  3, 11, 14, 11],\n",
       "         [13,  1,  9,  5,  7,  0],\n",
       "         [14, 14, 10,  9,  6,  0],\n",
       "         [ 5,  2, 13, 11,  8, 13]],\n",
       "\n",
       "        [[ 6, 11,  8,  0, 12, 12],\n",
       "         [ 5, 14, 14,  2,  0,  7],\n",
       "         [ 7,  6, 11,  0,  0,  8],\n",
       "         [10, 12, 14,  5, 14, 11]],\n",
       "\n",
       "        [[ 5,  9,  6,  4,  5,  2],\n",
       "         [12, 11, 13,  8,  8,  1],\n",
       "         [12,  6,  3,  4,  1,  8],\n",
       "         [ 0,  2, 13, 12, 11,  2]]]])"
      ]
     },
     "execution_count": 32,
     "metadata": {},
     "output_type": "execute_result"
    }
   ],
   "source": [
    "a1"
   ]
  },
  {
   "cell_type": "code",
   "execution_count": 33,
   "id": "a726adcb",
   "metadata": {},
   "outputs": [
    {
     "data": {
      "text/plain": [
       "array([[[[ 3, 14, 13,  6,  6,  0]],\n",
       "\n",
       "        [[11,  1, 14,  4,  6, 13]],\n",
       "\n",
       "        [[14,  4,  9,  3, 11,  2]]],\n",
       "\n",
       "\n",
       "       [[[ 1,  7,  3, 11, 14, 11]],\n",
       "\n",
       "        [[ 6, 11,  8,  0, 12, 12]],\n",
       "\n",
       "        [[ 5,  9,  6,  4,  5,  2]]]])"
      ]
     },
     "execution_count": 33,
     "metadata": {},
     "output_type": "execute_result"
    }
   ],
   "source": [
    "#first 6 of every 4*6 array\n",
    "a1[:2,:3,:1,:6]"
   ]
  },
  {
   "cell_type": "markdown",
   "id": "369590b4",
   "metadata": {},
   "source": [
    "## Manipulating and comparing array"
   ]
  },
  {
   "cell_type": "code",
   "execution_count": 34,
   "id": "9b64d6b8",
   "metadata": {},
   "outputs": [
    {
     "data": {
      "text/plain": [
       "array([[1., 1., 1., 1., 1.],\n",
       "       [1., 1., 1., 1., 1.],\n",
       "       [1., 1., 1., 1., 1.]])"
      ]
     },
     "execution_count": 34,
     "metadata": {},
     "output_type": "execute_result"
    }
   ],
   "source": [
    "#Arithmetic\n",
    "ones"
   ]
  },
  {
   "cell_type": "code",
   "execution_count": 35,
   "id": "4bb2bd6f",
   "metadata": {},
   "outputs": [
    {
     "data": {
      "text/plain": [
       "array([1., 1., 1.])"
      ]
     },
     "execution_count": 35,
     "metadata": {},
     "output_type": "execute_result"
    }
   ],
   "source": [
    "ones=np.ones(3)\n",
    "ones"
   ]
  },
  {
   "cell_type": "code",
   "execution_count": 36,
   "id": "1f72cff3",
   "metadata": {},
   "outputs": [
    {
     "data": {
      "text/plain": [
       "array([1, 2, 3])"
      ]
     },
     "execution_count": 36,
     "metadata": {},
     "output_type": "execute_result"
    }
   ],
   "source": [
    "arr1"
   ]
  },
  {
   "cell_type": "code",
   "execution_count": 37,
   "id": "a5483c31",
   "metadata": {},
   "outputs": [
    {
     "data": {
      "text/plain": [
       "array([2., 3., 4.])"
      ]
     },
     "execution_count": 37,
     "metadata": {},
     "output_type": "execute_result"
    }
   ],
   "source": [
    "arr1+ones"
   ]
  },
  {
   "cell_type": "code",
   "execution_count": 38,
   "id": "f80b84fa",
   "metadata": {},
   "outputs": [
    {
     "data": {
      "text/plain": [
       "array([0., 1., 2.])"
      ]
     },
     "execution_count": 38,
     "metadata": {},
     "output_type": "execute_result"
    }
   ],
   "source": [
    "arr1-ones"
   ]
  },
  {
   "cell_type": "code",
   "execution_count": 39,
   "id": "1987c235",
   "metadata": {},
   "outputs": [
    {
     "data": {
      "text/plain": [
       "array([1., 2., 3.])"
      ]
     },
     "execution_count": 39,
     "metadata": {},
     "output_type": "execute_result"
    }
   ],
   "source": [
    "arr1*ones"
   ]
  },
  {
   "cell_type": "code",
   "execution_count": 40,
   "id": "27553d6b",
   "metadata": {},
   "outputs": [
    {
     "data": {
      "text/plain": [
       "array([0.5, 1. , 1.5])"
      ]
     },
     "execution_count": 40,
     "metadata": {},
     "output_type": "execute_result"
    }
   ],
   "source": [
    "arr1 /2"
   ]
  },
  {
   "cell_type": "code",
   "execution_count": 41,
   "id": "691be7cc",
   "metadata": {},
   "outputs": [
    {
     "data": {
      "text/plain": [
       "array([0, 1, 1], dtype=int32)"
      ]
     },
     "execution_count": 41,
     "metadata": {},
     "output_type": "execute_result"
    }
   ],
   "source": [
    "#floor devision(rounds down)\n",
    "arr1 // 2"
   ]
  },
  {
   "cell_type": "code",
   "execution_count": 42,
   "id": "86646d68",
   "metadata": {},
   "outputs": [
    {
     "data": {
      "text/plain": [
       "array([ 1,  8, 27], dtype=int32)"
      ]
     },
     "execution_count": 42,
     "metadata": {},
     "output_type": "execute_result"
    }
   ],
   "source": [
    "#power\n",
    "arr1**3"
   ]
  },
  {
   "cell_type": "code",
   "execution_count": 43,
   "id": "e5f30e3a",
   "metadata": {},
   "outputs": [
    {
     "data": {
      "text/plain": [
       "array([1., 1., 1.])"
      ]
     },
     "execution_count": 43,
     "metadata": {},
     "output_type": "execute_result"
    }
   ],
   "source": [
    "ones**3"
   ]
  },
  {
   "cell_type": "code",
   "execution_count": 44,
   "id": "ac027753",
   "metadata": {},
   "outputs": [
    {
     "data": {
      "text/plain": [
       "array([[1, 2, 3],\n",
       "       [0, 1, 2]], dtype=int32)"
      ]
     },
     "execution_count": 44,
     "metadata": {},
     "output_type": "execute_result"
    }
   ],
   "source": [
    "arr2%4"
   ]
  },
  {
   "cell_type": "code",
   "execution_count": 45,
   "id": "f74d1485",
   "metadata": {},
   "outputs": [
    {
     "data": {
      "text/plain": [
       "array([[2, 4, 6],\n",
       "       [5, 7, 9]])"
      ]
     },
     "execution_count": 45,
     "metadata": {},
     "output_type": "execute_result"
    }
   ],
   "source": [
    "arr1+arr2"
   ]
  },
  {
   "cell_type": "code",
   "execution_count": 46,
   "id": "a9b17ac0",
   "metadata": {},
   "outputs": [
    {
     "data": {
      "text/plain": [
       "array([[[ 2,  4,  6],\n",
       "        [ 5,  7,  9],\n",
       "        [ 8, 10, 12]],\n",
       "\n",
       "       [[12, 14, 16],\n",
       "        [15, 17, 19],\n",
       "        [18, 20, 22]]])"
      ]
     },
     "execution_count": 46,
     "metadata": {},
     "output_type": "execute_result"
    }
   ],
   "source": [
    "arr1+arr3"
   ]
  },
  {
   "cell_type": "code",
   "execution_count": 47,
   "id": "b32bde19",
   "metadata": {},
   "outputs": [
    {
     "ename": "ValueError",
     "evalue": "operands could not be broadcast together with shapes (2,3) (2,3,3) ",
     "output_type": "error",
     "traceback": [
      "\u001b[1;31m---------------------------------------------------------------------------\u001b[0m",
      "\u001b[1;31mValueError\u001b[0m                                Traceback (most recent call last)",
      "\u001b[1;32m<ipython-input-47-0edd653e9ef4>\u001b[0m in \u001b[0;36m<module>\u001b[1;34m\u001b[0m\n\u001b[0;32m      1\u001b[0m \u001b[1;31m#Remember about broadcast concept(will practice later)\u001b[0m\u001b[1;33m\u001b[0m\u001b[1;33m\u001b[0m\u001b[1;33m\u001b[0m\u001b[0m\n\u001b[1;32m----> 2\u001b[1;33m \u001b[0marr2\u001b[0m\u001b[1;33m+\u001b[0m\u001b[0marr3\u001b[0m\u001b[1;33m\u001b[0m\u001b[1;33m\u001b[0m\u001b[0m\n\u001b[0m",
      "\u001b[1;31mValueError\u001b[0m: operands could not be broadcast together with shapes (2,3) (2,3,3) "
     ]
    }
   ],
   "source": [
    "#Remember about broadcast concept(will practice later)\n",
    "arr2+arr3"
   ]
  },
  {
   "cell_type": "code",
   "execution_count": 48,
   "id": "ae0eb9aa",
   "metadata": {},
   "outputs": [
    {
     "data": {
      "text/plain": [
       "array([[[ 1,  2,  3],\n",
       "        [ 4,  5,  6],\n",
       "        [ 7,  8,  9]],\n",
       "\n",
       "       [[11, 12, 13],\n",
       "        [14, 15, 16],\n",
       "        [17, 18, 19]]])"
      ]
     },
     "execution_count": 48,
     "metadata": {},
     "output_type": "execute_result"
    }
   ],
   "source": [
    "arr3"
   ]
  },
  {
   "cell_type": "code",
   "execution_count": 49,
   "id": "637cdd89",
   "metadata": {},
   "outputs": [
    {
     "data": {
      "text/plain": [
       "array([[[  1,   4,   9],\n",
       "        [ 16,  25,  36],\n",
       "        [ 49,  64,  81]],\n",
       "\n",
       "       [[121, 144, 169],\n",
       "        [196, 225, 256],\n",
       "        [289, 324, 361]]], dtype=int32)"
      ]
     },
     "execution_count": 49,
     "metadata": {},
     "output_type": "execute_result"
    }
   ],
   "source": [
    "#np functions\n",
    "np.square(arr3)"
   ]
  },
  {
   "cell_type": "code",
   "execution_count": 50,
   "id": "97746868",
   "metadata": {},
   "outputs": [
    {
     "data": {
      "text/plain": [
       "array([[[ 2,  4,  6],\n",
       "        [ 5,  7,  9],\n",
       "        [ 8, 10, 12]],\n",
       "\n",
       "       [[12, 14, 16],\n",
       "        [15, 17, 19],\n",
       "        [18, 20, 22]]])"
      ]
     },
     "execution_count": 50,
     "metadata": {},
     "output_type": "execute_result"
    }
   ],
   "source": [
    "np.add(arr3,arr1)"
   ]
  },
  {
   "cell_type": "code",
   "execution_count": 51,
   "id": "957da3b6",
   "metadata": {},
   "outputs": [
    {
     "data": {
      "text/plain": [
       "array([[1, 2, 3],\n",
       "       [4, 5, 6]])"
      ]
     },
     "execution_count": 51,
     "metadata": {},
     "output_type": "execute_result"
    }
   ],
   "source": [
    "arr2"
   ]
  },
  {
   "cell_type": "code",
   "execution_count": 52,
   "id": "9a21a6d0",
   "metadata": {},
   "outputs": [
    {
     "data": {
      "text/plain": [
       "array([[1, 2, 0],\n",
       "       [1, 2, 0]], dtype=int32)"
      ]
     },
     "execution_count": 52,
     "metadata": {},
     "output_type": "execute_result"
    }
   ],
   "source": [
    "\n",
    "np.mod(arr2,3)"
   ]
  },
  {
   "cell_type": "code",
   "execution_count": 53,
   "id": "50d78444",
   "metadata": {},
   "outputs": [
    {
     "data": {
      "text/plain": [
       "array([[  2.71828183,   7.3890561 ,  20.08553692],\n",
       "       [ 54.59815003, 148.4131591 , 403.42879349]])"
      ]
     },
     "execution_count": 53,
     "metadata": {},
     "output_type": "execute_result"
    }
   ],
   "source": [
    "np.exp(arr2)"
   ]
  },
  {
   "cell_type": "code",
   "execution_count": 54,
   "id": "f4965d79",
   "metadata": {},
   "outputs": [
    {
     "data": {
      "text/plain": [
       "array([0.        , 0.69314718, 1.09861229])"
      ]
     },
     "execution_count": 54,
     "metadata": {},
     "output_type": "execute_result"
    }
   ],
   "source": [
    "np.log(arr1)"
   ]
  },
  {
   "cell_type": "code",
   "execution_count": 55,
   "id": "0c43ab19",
   "metadata": {},
   "outputs": [
    {
     "data": {
      "text/plain": [
       "2.302585092994046"
      ]
     },
     "execution_count": 55,
     "metadata": {},
     "output_type": "execute_result"
    }
   ],
   "source": [
    "np.log(10)"
   ]
  },
  {
   "cell_type": "code",
   "execution_count": 56,
   "id": "905c16da",
   "metadata": {},
   "outputs": [
    {
     "data": {
      "text/plain": [
       "0.0"
      ]
     },
     "execution_count": 56,
     "metadata": {},
     "output_type": "execute_result"
    }
   ],
   "source": [
    "np.log(1)"
   ]
  },
  {
   "cell_type": "code",
   "execution_count": 57,
   "id": "84314bc0",
   "metadata": {},
   "outputs": [
    {
     "data": {
      "text/plain": [
       "0.6931471805599453"
      ]
     },
     "execution_count": 57,
     "metadata": {},
     "output_type": "execute_result"
    }
   ],
   "source": [
    "np.log(2)"
   ]
  },
  {
   "cell_type": "code",
   "execution_count": 58,
   "id": "29a1aa01",
   "metadata": {},
   "outputs": [
    {
     "data": {
      "text/plain": [
       "2.0"
      ]
     },
     "execution_count": 58,
     "metadata": {},
     "output_type": "execute_result"
    }
   ],
   "source": [
    "np.sqrt(4)"
   ]
  },
  {
   "cell_type": "markdown",
   "id": "7e1f7950",
   "metadata": {},
   "source": [
    "### Aggregation\n",
    "Perfoming same operation on a number of things"
   ]
  },
  {
   "cell_type": "code",
   "execution_count": 59,
   "id": "e40e19c4",
   "metadata": {},
   "outputs": [
    {
     "data": {
      "text/plain": [
       "list"
      ]
     },
     "execution_count": 59,
     "metadata": {},
     "output_type": "execute_result"
    }
   ],
   "source": [
    "list1=[1,2,3,4]\n",
    "type(list1)"
   ]
  },
  {
   "cell_type": "code",
   "execution_count": 60,
   "id": "fcc51213",
   "metadata": {},
   "outputs": [
    {
     "data": {
      "text/plain": [
       "10"
      ]
     },
     "execution_count": 60,
     "metadata": {},
     "output_type": "execute_result"
    }
   ],
   "source": [
    "sum(list1)"
   ]
  },
  {
   "cell_type": "code",
   "execution_count": 61,
   "id": "6f9faaae",
   "metadata": {},
   "outputs": [
    {
     "data": {
      "text/plain": [
       "array([1, 2, 3])"
      ]
     },
     "execution_count": 61,
     "metadata": {},
     "output_type": "execute_result"
    }
   ],
   "source": [
    "arr1"
   ]
  },
  {
   "cell_type": "code",
   "execution_count": 62,
   "id": "82d9915b",
   "metadata": {},
   "outputs": [
    {
     "data": {
      "text/plain": [
       "6"
      ]
     },
     "execution_count": 62,
     "metadata": {},
     "output_type": "execute_result"
    }
   ],
   "source": [
    "sum(arr1)"
   ]
  },
  {
   "cell_type": "code",
   "execution_count": 63,
   "id": "511afb20",
   "metadata": {},
   "outputs": [
    {
     "data": {
      "text/plain": [
       "6"
      ]
     },
     "execution_count": 63,
     "metadata": {},
     "output_type": "execute_result"
    }
   ],
   "source": [
    "np.sum(arr1)"
   ]
  },
  {
   "cell_type": "code",
   "execution_count": 64,
   "id": "9e3e54c0",
   "metadata": {},
   "outputs": [],
   "source": [
    "#use python's methods (sum()) on python datatypes and use numpy's methods on Numpy arrays (np.sum())"
   ]
  },
  {
   "cell_type": "code",
   "execution_count": 65,
   "id": "2c124496",
   "metadata": {},
   "outputs": [
    {
     "data": {
      "text/plain": [
       "1000"
      ]
     },
     "execution_count": 65,
     "metadata": {},
     "output_type": "execute_result"
    }
   ],
   "source": [
    "big_array=np.random.random(1000)\n",
    "big_array.size"
   ]
  },
  {
   "cell_type": "code",
   "execution_count": 66,
   "id": "6c266653",
   "metadata": {},
   "outputs": [
    {
     "data": {
      "text/plain": [
       "array([0.58349974, 0.93929935, 0.94354008, 0.11169243, 0.84355497,\n",
       "       0.34602815, 0.10082727, 0.38340907, 0.5103548 , 0.96110308,\n",
       "       0.37151262, 0.01236941, 0.85970689, 0.11111075, 0.47833904,\n",
       "       0.84998003])"
      ]
     },
     "execution_count": 66,
     "metadata": {},
     "output_type": "execute_result"
    }
   ],
   "source": [
    "big_array[:16]"
   ]
  },
  {
   "cell_type": "code",
   "execution_count": 67,
   "id": "8cce2b3e",
   "metadata": {},
   "outputs": [
    {
     "name": "stdout",
     "output_type": "stream",
     "text": [
      "153 µs ± 1.29 µs per loop (mean ± std. dev. of 7 runs, 10000 loops each)\n",
      "8.52 µs ± 56.4 ns per loop (mean ± std. dev. of 7 runs, 100000 loops each)\n",
      "261 ns ± 3.11 ns per loop (mean ± std. dev. of 7 runs, 1000000 loops each)\n",
      "11.1 µs ± 152 ns per loop (mean ± std. dev. of 7 runs, 100000 loops each)\n"
     ]
    }
   ],
   "source": [
    "%timeit sum(big_array)  #python's sum function time \n",
    "%timeit np.sum(big_array)  #numpy's sum function time\n",
    "%timeit sum(list1)\n",
    "%timeit np.sum(list1)\n"
   ]
  },
  {
   "cell_type": "code",
   "execution_count": 68,
   "id": "c7575f1a",
   "metadata": {},
   "outputs": [
    {
     "data": {
      "text/plain": [
       "2.0"
      ]
     },
     "execution_count": 68,
     "metadata": {},
     "output_type": "execute_result"
    }
   ],
   "source": [
    "#mean\n",
    "np.mean(arr1)"
   ]
  },
  {
   "cell_type": "code",
   "execution_count": 69,
   "id": "24f7b84d",
   "metadata": {},
   "outputs": [
    {
     "data": {
      "text/plain": [
       "0.816496580927726"
      ]
     },
     "execution_count": 69,
     "metadata": {},
     "output_type": "execute_result"
    }
   ],
   "source": [
    "#std deviation\n",
    "np.std(arr1)"
   ]
  },
  {
   "cell_type": "code",
   "execution_count": 70,
   "id": "932d2769",
   "metadata": {},
   "outputs": [
    {
     "data": {
      "text/plain": [
       "0.6666666666666666"
      ]
     },
     "execution_count": 70,
     "metadata": {},
     "output_type": "execute_result"
    }
   ],
   "source": [
    "#Variance\n",
    "np.var(arr1)"
   ]
  },
  {
   "cell_type": "code",
   "execution_count": 71,
   "id": "57d4fdd8",
   "metadata": {},
   "outputs": [
    {
     "data": {
      "text/plain": [
       "0.816496580927726"
      ]
     },
     "execution_count": 71,
     "metadata": {},
     "output_type": "execute_result"
    }
   ],
   "source": [
    "np.sqrt(np.var(arr1))"
   ]
  },
  {
   "cell_type": "code",
   "execution_count": 72,
   "id": "14ca03f6",
   "metadata": {},
   "outputs": [
    {
     "data": {
      "text/plain": [
       "(1, 3)"
      ]
     },
     "execution_count": 72,
     "metadata": {},
     "output_type": "execute_result"
    }
   ],
   "source": [
    "np.min(arr1),np.max(arr1)"
   ]
  },
  {
   "cell_type": "code",
   "execution_count": 73,
   "id": "ccf4b07d",
   "metadata": {},
   "outputs": [],
   "source": [
    "#Standard deviation= Square root of the variance\n",
    "#Variance =measure of the average degree to which each number is different to the mean\n",
    "#Higher variance =wide range of numbers\n",
    "#Lower variance=lower range of numbers"
   ]
  },
  {
   "cell_type": "code",
   "execution_count": 74,
   "id": "6b3a29fd",
   "metadata": {},
   "outputs": [
    {
     "data": {
      "text/plain": [
       "(3064189.918367347, 11.84)"
      ]
     },
     "execution_count": 74,
     "metadata": {},
     "output_type": "execute_result"
    }
   ],
   "source": [
    "high_var_arr=np.array([1,150,200,500,1000,3000,5000])\n",
    "low_var_arr=np.array([2,4,6,8,12])\n",
    "np.var(high_var_arr),np.var(low_var_arr)"
   ]
  },
  {
   "cell_type": "code",
   "execution_count": 75,
   "id": "62ef7bba",
   "metadata": {},
   "outputs": [
    {
     "data": {
      "text/plain": [
       "(1750.4827672294712, 3.4409301068170506)"
      ]
     },
     "execution_count": 75,
     "metadata": {},
     "output_type": "execute_result"
    }
   ],
   "source": [
    "np.std(high_var_arr),np.std(low_var_arr)"
   ]
  },
  {
   "cell_type": "code",
   "execution_count": 76,
   "id": "be1efe60",
   "metadata": {},
   "outputs": [
    {
     "data": {
      "image/png": "[encoded data removed]",
      "text/plain": [
       "<Figure size 432x288 with 1 Axes>"
      ]
     },
     "metadata": {
      "needs_background": "light"
     },
     "output_type": "display_data"
    }
   ],
   "source": [
    "%matplotlib inline\n",
    "import matplotlib.pyplot as plt \n",
    "plt.hist(high_var_arr)\n",
    "plt.show()"
   ]
  },
  {
   "cell_type": "code",
   "execution_count": 77,
   "id": "2c4f3c18",
   "metadata": {},
   "outputs": [
    {
     "data": {
      "image/png": "[encoded data removed]",
      "text/plain": [
       "<Figure size 432x288 with 1 Axes>"
      ]
     },
     "metadata": {
      "needs_background": "light"
     },
     "output_type": "display_data"
    }
   ],
   "source": [
    "plt.hist(low_var_arr)\n",
    "plt.show()"
   ]
  },
  {
   "cell_type": "markdown",
   "id": "f76269d4",
   "metadata": {},
   "source": [
    "## Reshape and Transpose"
   ]
  },
  {
   "cell_type": "code",
   "execution_count": 78,
   "id": "734996ea",
   "metadata": {},
   "outputs": [
    {
     "data": {
      "text/plain": [
       "array([[1, 2, 3],\n",
       "       [4, 5, 6]])"
      ]
     },
     "execution_count": 78,
     "metadata": {},
     "output_type": "execute_result"
    }
   ],
   "source": [
    "arr2\n",
    "\n"
   ]
  },
  {
   "cell_type": "code",
   "execution_count": 79,
   "id": "0ff85c33",
   "metadata": {},
   "outputs": [
    {
     "data": {
      "text/plain": [
       "array([[[ 1,  2,  3],\n",
       "        [ 4,  5,  6],\n",
       "        [ 7,  8,  9]],\n",
       "\n",
       "       [[11, 12, 13],\n",
       "        [14, 15, 16],\n",
       "        [17, 18, 19]]])"
      ]
     },
     "execution_count": 79,
     "metadata": {},
     "output_type": "execute_result"
    }
   ],
   "source": [
    "arr3"
   ]
  },
  {
   "cell_type": "code",
   "execution_count": 80,
   "id": "22569cc9",
   "metadata": {},
   "outputs": [
    {
     "ename": "ValueError",
     "evalue": "operands could not be broadcast together with shapes (2,3) (2,3,3) ",
     "output_type": "error",
     "traceback": [
      "\u001b[1;31m---------------------------------------------------------------------------\u001b[0m",
      "\u001b[1;31mValueError\u001b[0m                                Traceback (most recent call last)",
      "\u001b[1;32m<ipython-input-80-5fbcc8c8129a>\u001b[0m in \u001b[0;36m<module>\u001b[1;34m\u001b[0m\n\u001b[1;32m----> 1\u001b[1;33m \u001b[0marr2\u001b[0m\u001b[1;33m*\u001b[0m\u001b[0marr3\u001b[0m\u001b[1;33m\u001b[0m\u001b[1;33m\u001b[0m\u001b[0m\n\u001b[0m",
      "\u001b[1;31mValueError\u001b[0m: operands could not be broadcast together with shapes (2,3) (2,3,3) "
     ]
    }
   ],
   "source": [
    "arr2*arr3"
   ]
  },
  {
   "cell_type": "code",
   "execution_count": 81,
   "id": "c8d09e8a",
   "metadata": {},
   "outputs": [],
   "source": [
    "#Two dimensional are compatible when, \n",
    "#1.they are equal or\n",
    "#2.one of them is 1"
   ]
  },
  {
   "cell_type": "code",
   "execution_count": 82,
   "id": "adcc9f08",
   "metadata": {},
   "outputs": [],
   "source": [
    "arr2_reshape=arr2.reshape(2,3,1)"
   ]
  },
  {
   "cell_type": "code",
   "execution_count": 83,
   "id": "52df2d4b",
   "metadata": {},
   "outputs": [
    {
     "data": {
      "text/plain": [
       "(2, 3, 1)"
      ]
     },
     "execution_count": 83,
     "metadata": {},
     "output_type": "execute_result"
    }
   ],
   "source": [
    "arr2_reshape.shape"
   ]
  },
  {
   "cell_type": "code",
   "execution_count": 84,
   "id": "1cecaf0d",
   "metadata": {},
   "outputs": [
    {
     "data": {
      "text/plain": [
       "array([[[1],\n",
       "        [2],\n",
       "        [3]],\n",
       "\n",
       "       [[4],\n",
       "        [5],\n",
       "        [6]]])"
      ]
     },
     "execution_count": 84,
     "metadata": {},
     "output_type": "execute_result"
    }
   ],
   "source": [
    "arr2_reshape"
   ]
  },
  {
   "cell_type": "code",
   "execution_count": 85,
   "id": "9ecb5fa7",
   "metadata": {},
   "outputs": [
    {
     "data": {
      "text/plain": [
       "array([[[  1,   2,   3],\n",
       "        [  8,  10,  12],\n",
       "        [ 21,  24,  27]],\n",
       "\n",
       "       [[ 44,  48,  52],\n",
       "        [ 70,  75,  80],\n",
       "        [102, 108, 114]]])"
      ]
     },
     "execution_count": 85,
     "metadata": {},
     "output_type": "execute_result"
    }
   ],
   "source": [
    "arr2_reshape*arr3"
   ]
  },
  {
   "cell_type": "code",
   "execution_count": 86,
   "id": "eb793c33",
   "metadata": {},
   "outputs": [],
   "source": [
    "#Transpose switches the axis"
   ]
  },
  {
   "cell_type": "code",
   "execution_count": 87,
   "id": "cadc51eb",
   "metadata": {},
   "outputs": [
    {
     "data": {
      "text/plain": [
       "array([[1, 4],\n",
       "       [2, 5],\n",
       "       [3, 6]])"
      ]
     },
     "execution_count": 87,
     "metadata": {},
     "output_type": "execute_result"
    }
   ],
   "source": [
    "arr2.T"
   ]
  },
  {
   "cell_type": "code",
   "execution_count": 88,
   "id": "ebbec8d8",
   "metadata": {},
   "outputs": [
    {
     "data": {
      "text/plain": [
       "array([[[ 1, 11],\n",
       "        [ 4, 14],\n",
       "        [ 7, 17]],\n",
       "\n",
       "       [[ 2, 12],\n",
       "        [ 5, 15],\n",
       "        [ 8, 18]],\n",
       "\n",
       "       [[ 3, 13],\n",
       "        [ 6, 16],\n",
       "        [ 9, 19]]])"
      ]
     },
     "execution_count": 88,
     "metadata": {},
     "output_type": "execute_result"
    }
   ],
   "source": [
    "arr3.T"
   ]
  },
  {
   "cell_type": "code",
   "execution_count": 89,
   "id": "4ea403a6",
   "metadata": {},
   "outputs": [
    {
     "data": {
      "text/plain": [
       "(2, 3, 4)"
      ]
     },
     "execution_count": 89,
     "metadata": {},
     "output_type": "execute_result"
    }
   ],
   "source": [
    "trns_arr=np.array([[[1,2,3,4],\n",
    "                   [5,6,7,8],\n",
    "                   [9,10,11,12]],\n",
    "                   [[13,14,15,16],\n",
    "                   [17,18,19,20],\n",
    "                   [21,22,23,24]]])\n",
    "trns_arr.shape"
   ]
  },
  {
   "cell_type": "code",
   "execution_count": 90,
   "id": "a5dc051e",
   "metadata": {},
   "outputs": [
    {
     "data": {
      "text/plain": [
       "array([[[ 1,  2,  3,  4],\n",
       "        [ 5,  6,  7,  8],\n",
       "        [ 9, 10, 11, 12]],\n",
       "\n",
       "       [[13, 14, 15, 16],\n",
       "        [17, 18, 19, 20],\n",
       "        [21, 22, 23, 24]]])"
      ]
     },
     "execution_count": 90,
     "metadata": {},
     "output_type": "execute_result"
    }
   ],
   "source": [
    "trns_arr"
   ]
  },
  {
   "cell_type": "code",
   "execution_count": 91,
   "id": "854d1b2a",
   "metadata": {},
   "outputs": [
    {
     "data": {
      "text/plain": [
       "array([[[ 1, 13],\n",
       "        [ 5, 17],\n",
       "        [ 9, 21]],\n",
       "\n",
       "       [[ 2, 14],\n",
       "        [ 6, 18],\n",
       "        [10, 22]],\n",
       "\n",
       "       [[ 3, 15],\n",
       "        [ 7, 19],\n",
       "        [11, 23]],\n",
       "\n",
       "       [[ 4, 16],\n",
       "        [ 8, 20],\n",
       "        [12, 24]]])"
      ]
     },
     "execution_count": 91,
     "metadata": {},
     "output_type": "execute_result"
    }
   ],
   "source": [
    "trns_arr.T"
   ]
  },
  {
   "cell_type": "code",
   "execution_count": 92,
   "id": "c4711632",
   "metadata": {},
   "outputs": [
    {
     "data": {
      "text/plain": [
       "(4, 3, 2)"
      ]
     },
     "execution_count": 92,
     "metadata": {},
     "output_type": "execute_result"
    }
   ],
   "source": [
    "trns_arr.T.shape"
   ]
  },
  {
   "cell_type": "markdown",
   "id": "2ef82682",
   "metadata": {},
   "source": [
    "## Dot product"
   ]
  },
  {
   "cell_type": "code",
   "execution_count": 93,
   "id": "2f1b9c4a",
   "metadata": {},
   "outputs": [],
   "source": [
    "np.random.seed(1)\n",
    "mat1=np.random.randint(10,size=(5,3))\n",
    "mat2=np.random.randint(10,size=(5,3))"
   ]
  },
  {
   "cell_type": "code",
   "execution_count": 94,
   "id": "9e65a286",
   "metadata": {},
   "outputs": [
    {
     "data": {
      "text/plain": [
       "array([[5, 8, 9],\n",
       "       [5, 0, 0],\n",
       "       [1, 7, 6],\n",
       "       [9, 2, 4],\n",
       "       [5, 2, 4]])"
      ]
     },
     "execution_count": 94,
     "metadata": {},
     "output_type": "execute_result"
    }
   ],
   "source": [
    "mat1"
   ]
  },
  {
   "cell_type": "code",
   "execution_count": 95,
   "id": "e550c577",
   "metadata": {},
   "outputs": [
    {
     "data": {
      "text/plain": [
       "array([[2, 4, 7],\n",
       "       [7, 9, 1],\n",
       "       [7, 0, 6],\n",
       "       [9, 9, 7],\n",
       "       [6, 9, 1]])"
      ]
     },
     "execution_count": 95,
     "metadata": {},
     "output_type": "execute_result"
    }
   ],
   "source": [
    "mat2"
   ]
  },
  {
   "cell_type": "code",
   "execution_count": 96,
   "id": "5e8e4bae",
   "metadata": {},
   "outputs": [
    {
     "data": {
      "text/plain": [
       "array([[10, 32, 63],\n",
       "       [35,  0,  0],\n",
       "       [ 7,  0, 36],\n",
       "       [81, 18, 28],\n",
       "       [30, 18,  4]])"
      ]
     },
     "execution_count": 96,
     "metadata": {},
     "output_type": "execute_result"
    }
   ],
   "source": [
    "#Elememt wise product\n",
    "mat1*mat2"
   ]
  },
  {
   "cell_type": "code",
   "execution_count": 97,
   "id": "3c61d8d5",
   "metadata": {},
   "outputs": [
    {
     "ename": "ValueError",
     "evalue": "shapes (5,3) and (5,3) not aligned: 3 (dim 1) != 5 (dim 0)",
     "output_type": "error",
     "traceback": [
      "\u001b[1;31m---------------------------------------------------------------------------\u001b[0m",
      "\u001b[1;31mValueError\u001b[0m                                Traceback (most recent call last)",
      "\u001b[1;32m<ipython-input-97-ca650ca9bbb3>\u001b[0m in \u001b[0;36m<module>\u001b[1;34m\u001b[0m\n\u001b[1;32m----> 1\u001b[1;33m \u001b[0mnp\u001b[0m\u001b[1;33m.\u001b[0m\u001b[0mdot\u001b[0m\u001b[1;33m(\u001b[0m\u001b[0mmat1\u001b[0m\u001b[1;33m,\u001b[0m\u001b[0mmat2\u001b[0m\u001b[1;33m)\u001b[0m\u001b[1;33m\u001b[0m\u001b[1;33m\u001b[0m\u001b[0m\n\u001b[0m",
      "\u001b[1;32m<__array_function__ internals>\u001b[0m in \u001b[0;36mdot\u001b[1;34m(*args, **kwargs)\u001b[0m\n",
      "\u001b[1;31mValueError\u001b[0m: shapes (5,3) and (5,3) not aligned: 3 (dim 1) != 5 (dim 0)"
     ]
    }
   ],
   "source": [
    "np.dot(mat1,mat2)"
   ]
  },
  {
   "cell_type": "code",
   "execution_count": 98,
   "id": "10716b42",
   "metadata": {},
   "outputs": [
    {
     "data": {
      "text/plain": [
       "array([[105, 116,  89, 180, 111],\n",
       "       [ 10,  35,  35,  45,  30],\n",
       "       [ 72,  76,  43, 114,  75],\n",
       "       [ 54,  85,  87, 127,  76],\n",
       "       [ 46,  57,  59,  91,  52]])"
      ]
     },
     "execution_count": 98,
     "metadata": {},
     "output_type": "execute_result"
    }
   ],
   "source": [
    "np.dot(mat1,mat2.T)"
   ]
  },
  {
   "cell_type": "code",
   "execution_count": 99,
   "id": "d7d220f1",
   "metadata": {},
   "outputs": [
    {
     "data": {
      "text/plain": [
       "array([[98, 81, 36, 93, 28],\n",
       "       [82, 47, 50, 27, 96],\n",
       "       [35, 73, 47, 64, 97],\n",
       "       [95, 85, 67, 50, 38],\n",
       "       [29, 61, 82, 21, 36],\n",
       "       [98, 25, 78, 20, 24],\n",
       "       [56, 71, 47, 51, 22]])"
      ]
     },
     "execution_count": 99,
     "metadata": {},
     "output_type": "execute_result"
    }
   ],
   "source": [
    "#Daily Sales of Electronic Gadgets \n",
    "np.random.seed(5)\n",
    "Sales_data=np.random.randint(20,100,size=(7,5))\n",
    "Sales_data"
   ]
  },
  {
   "cell_type": "code",
   "execution_count": 116,
   "id": "45bb5878",
   "metadata": {},
   "outputs": [
    {
     "data": {
      "text/html": [
       "<div>\n",
       "<style scoped>\n",
       "    .dataframe tbody tr th:only-of-type {\n",
       "        vertical-align: middle;\n",
       "    }\n",
       "\n",
       "    .dataframe tbody tr th {\n",
       "        vertical-align: top;\n",
       "    }\n",
       "\n",
       "    .dataframe thead th {\n",
       "        text-align: right;\n",
       "    }\n",
       "</style>\n",
       "<table border=\"1\" class=\"dataframe\">\n",
       "  <thead>\n",
       "    <tr style=\"text-align: right;\">\n",
       "      <th></th>\n",
       "      <th>Headphones</th>\n",
       "      <th>Mobile</th>\n",
       "      <th>VideoGames</th>\n",
       "      <th>Laptop</th>\n",
       "      <th>Mouse</th>\n",
       "    </tr>\n",
       "  </thead>\n",
       "  <tbody>\n",
       "    <tr>\n",
       "      <th>Mon</th>\n",
       "      <td>98</td>\n",
       "      <td>81</td>\n",
       "      <td>36</td>\n",
       "      <td>93</td>\n",
       "      <td>28</td>\n",
       "    </tr>\n",
       "    <tr>\n",
       "      <th>Tues</th>\n",
       "      <td>82</td>\n",
       "      <td>47</td>\n",
       "      <td>50</td>\n",
       "      <td>27</td>\n",
       "      <td>96</td>\n",
       "    </tr>\n",
       "    <tr>\n",
       "      <th>Wed</th>\n",
       "      <td>35</td>\n",
       "      <td>73</td>\n",
       "      <td>47</td>\n",
       "      <td>64</td>\n",
       "      <td>97</td>\n",
       "    </tr>\n",
       "    <tr>\n",
       "      <th>Thurs</th>\n",
       "      <td>95</td>\n",
       "      <td>85</td>\n",
       "      <td>67</td>\n",
       "      <td>50</td>\n",
       "      <td>38</td>\n",
       "    </tr>\n",
       "    <tr>\n",
       "      <th>Fri</th>\n",
       "      <td>29</td>\n",
       "      <td>61</td>\n",
       "      <td>82</td>\n",
       "      <td>21</td>\n",
       "      <td>36</td>\n",
       "    </tr>\n",
       "    <tr>\n",
       "      <th>Sat</th>\n",
       "      <td>98</td>\n",
       "      <td>25</td>\n",
       "      <td>78</td>\n",
       "      <td>20</td>\n",
       "      <td>24</td>\n",
       "    </tr>\n",
       "    <tr>\n",
       "      <th>Sun</th>\n",
       "      <td>56</td>\n",
       "      <td>71</td>\n",
       "      <td>47</td>\n",
       "      <td>51</td>\n",
       "      <td>22</td>\n",
       "    </tr>\n",
       "  </tbody>\n",
       "</table>\n",
       "</div>"
      ],
      "text/plain": [
       "       Headphones  Mobile  VideoGames  Laptop  Mouse\n",
       "Mon            98      81          36      93     28\n",
       "Tues           82      47          50      27     96\n",
       "Wed            35      73          47      64     97\n",
       "Thurs          95      85          67      50     38\n",
       "Fri            29      61          82      21     36\n",
       "Sat            98      25          78      20     24\n",
       "Sun            56      71          47      51     22"
      ]
     },
     "execution_count": 116,
     "metadata": {},
     "output_type": "execute_result"
    }
   ],
   "source": [
    "weekly_sales=pd.DataFrame(Sales_data,index=[\"Mon\",\"Tues\",\"Wed\",\"Thurs\",\"Fri\",\"Sat\",\"Sun\"],\n",
    "                         columns=[\"Headphones\",\"Mobile\",\"VideoGames\",\"Laptop\",\"Mouse\"])\n",
    "weekly_sales"
   ]
  },
  {
   "cell_type": "code",
   "execution_count": 117,
   "id": "3b54c7b0",
   "metadata": {},
   "outputs": [
    {
     "ename": "ValueError",
     "evalue": "Shape of passed values is (5, 1), indices imply (1, 5)",
     "output_type": "error",
     "traceback": [
      "\u001b[1;31m---------------------------------------------------------------------------\u001b[0m",
      "\u001b[1;31mValueError\u001b[0m                                Traceback (most recent call last)",
      "\u001b[1;32m~\\Desktop\\Myproject\\env\\lib\\site-packages\\pandas\\core\\internals\\managers.py\u001b[0m in \u001b[0;36mcreate_block_manager_from_blocks\u001b[1;34m(blocks, axes)\u001b[0m\n\u001b[0;32m   1674\u001b[0m                 blocks = [\n\u001b[1;32m-> 1675\u001b[1;33m                     make_block(\n\u001b[0m\u001b[0;32m   1676\u001b[0m                         \u001b[0mvalues\u001b[0m\u001b[1;33m=\u001b[0m\u001b[0mblocks\u001b[0m\u001b[1;33m[\u001b[0m\u001b[1;36m0\u001b[0m\u001b[1;33m]\u001b[0m\u001b[1;33m,\u001b[0m \u001b[0mplacement\u001b[0m\u001b[1;33m=\u001b[0m\u001b[0mslice\u001b[0m\u001b[1;33m(\u001b[0m\u001b[1;36m0\u001b[0m\u001b[1;33m,\u001b[0m \u001b[0mlen\u001b[0m\u001b[1;33m(\u001b[0m\u001b[0maxes\u001b[0m\u001b[1;33m[\u001b[0m\u001b[1;36m0\u001b[0m\u001b[1;33m]\u001b[0m\u001b[1;33m)\u001b[0m\u001b[1;33m)\u001b[0m\u001b[1;33m,\u001b[0m \u001b[0mndim\u001b[0m\u001b[1;33m=\u001b[0m\u001b[1;36m2\u001b[0m\u001b[1;33m\u001b[0m\u001b[1;33m\u001b[0m\u001b[0m\n",
      "\u001b[1;32m~\\Desktop\\Myproject\\env\\lib\\site-packages\\pandas\\core\\internals\\blocks.py\u001b[0m in \u001b[0;36mmake_block\u001b[1;34m(values, placement, klass, ndim, dtype)\u001b[0m\n\u001b[0;32m   2750\u001b[0m \u001b[1;33m\u001b[0m\u001b[0m\n\u001b[1;32m-> 2751\u001b[1;33m     \u001b[1;32mreturn\u001b[0m \u001b[0mklass\u001b[0m\u001b[1;33m(\u001b[0m\u001b[0mvalues\u001b[0m\u001b[1;33m,\u001b[0m \u001b[0mndim\u001b[0m\u001b[1;33m=\u001b[0m\u001b[0mndim\u001b[0m\u001b[1;33m,\u001b[0m \u001b[0mplacement\u001b[0m\u001b[1;33m=\u001b[0m\u001b[0mplacement\u001b[0m\u001b[1;33m)\u001b[0m\u001b[1;33m\u001b[0m\u001b[1;33m\u001b[0m\u001b[0m\n\u001b[0m\u001b[0;32m   2752\u001b[0m \u001b[1;33m\u001b[0m\u001b[0m\n",
      "\u001b[1;32m~\\Desktop\\Myproject\\env\\lib\\site-packages\\pandas\\core\\internals\\blocks.py\u001b[0m in \u001b[0;36m__init__\u001b[1;34m(self, values, placement, ndim)\u001b[0m\n\u001b[0;32m    141\u001b[0m         \u001b[1;32mif\u001b[0m \u001b[0mself\u001b[0m\u001b[1;33m.\u001b[0m\u001b[0m_validate_ndim\u001b[0m \u001b[1;32mand\u001b[0m \u001b[0mself\u001b[0m\u001b[1;33m.\u001b[0m\u001b[0mndim\u001b[0m \u001b[1;32mand\u001b[0m \u001b[0mlen\u001b[0m\u001b[1;33m(\u001b[0m\u001b[0mself\u001b[0m\u001b[1;33m.\u001b[0m\u001b[0mmgr_locs\u001b[0m\u001b[1;33m)\u001b[0m \u001b[1;33m!=\u001b[0m \u001b[0mlen\u001b[0m\u001b[1;33m(\u001b[0m\u001b[0mself\u001b[0m\u001b[1;33m.\u001b[0m\u001b[0mvalues\u001b[0m\u001b[1;33m)\u001b[0m\u001b[1;33m:\u001b[0m\u001b[1;33m\u001b[0m\u001b[1;33m\u001b[0m\u001b[0m\n\u001b[1;32m--> 142\u001b[1;33m             raise ValueError(\n\u001b[0m\u001b[0;32m    143\u001b[0m                 \u001b[1;34mf\"Wrong number of items passed {len(self.values)}, \"\u001b[0m\u001b[1;33m\u001b[0m\u001b[1;33m\u001b[0m\u001b[0m\n",
      "\u001b[1;31mValueError\u001b[0m: Wrong number of items passed 1, placement implies 5",
      "\nDuring handling of the above exception, another exception occurred:\n",
      "\u001b[1;31mValueError\u001b[0m                                Traceback (most recent call last)",
      "\u001b[1;32m<ipython-input-117-58eb7aeb9a05>\u001b[0m in \u001b[0;36m<module>\u001b[1;34m\u001b[0m\n\u001b[0;32m      1\u001b[0m \u001b[0mPri\u001b[0m\u001b[1;33m=\u001b[0m\u001b[0mnp\u001b[0m\u001b[1;33m.\u001b[0m\u001b[0marray\u001b[0m\u001b[1;33m(\u001b[0m\u001b[1;33m[\u001b[0m\u001b[1;36m999\u001b[0m\u001b[1;33m,\u001b[0m\u001b[1;36m25000\u001b[0m\u001b[1;33m,\u001b[0m\u001b[1;36m8000\u001b[0m\u001b[1;33m,\u001b[0m\u001b[1;36m70000\u001b[0m\u001b[1;33m,\u001b[0m\u001b[1;36m500\u001b[0m\u001b[1;33m]\u001b[0m\u001b[1;33m)\u001b[0m\u001b[1;33m\u001b[0m\u001b[1;33m\u001b[0m\u001b[0m\n\u001b[1;32m----> 2\u001b[1;33m Price=pd.DataFrame(Pri,index=[\"Price\"],\n\u001b[0m\u001b[0;32m      3\u001b[0m                 columns=[\"Headphones\",\"Mobile\",\"VideoGames\",\"Laptop\",\"Mouse\"])\n\u001b[0;32m      4\u001b[0m \u001b[1;33m\u001b[0m\u001b[0m\n",
      "\u001b[1;32m~\\Desktop\\Myproject\\env\\lib\\site-packages\\pandas\\core\\frame.py\u001b[0m in \u001b[0;36m__init__\u001b[1;34m(self, data, index, columns, dtype, copy)\u001b[0m\n\u001b[0;32m    556\u001b[0m                 \u001b[0mmgr\u001b[0m \u001b[1;33m=\u001b[0m \u001b[0minit_dict\u001b[0m\u001b[1;33m(\u001b[0m\u001b[1;33m{\u001b[0m\u001b[0mdata\u001b[0m\u001b[1;33m.\u001b[0m\u001b[0mname\u001b[0m\u001b[1;33m:\u001b[0m \u001b[0mdata\u001b[0m\u001b[1;33m}\u001b[0m\u001b[1;33m,\u001b[0m \u001b[0mindex\u001b[0m\u001b[1;33m,\u001b[0m \u001b[0mcolumns\u001b[0m\u001b[1;33m,\u001b[0m \u001b[0mdtype\u001b[0m\u001b[1;33m=\u001b[0m\u001b[0mdtype\u001b[0m\u001b[1;33m)\u001b[0m\u001b[1;33m\u001b[0m\u001b[1;33m\u001b[0m\u001b[0m\n\u001b[0;32m    557\u001b[0m             \u001b[1;32melse\u001b[0m\u001b[1;33m:\u001b[0m\u001b[1;33m\u001b[0m\u001b[1;33m\u001b[0m\u001b[0m\n\u001b[1;32m--> 558\u001b[1;33m                 \u001b[0mmgr\u001b[0m \u001b[1;33m=\u001b[0m \u001b[0minit_ndarray\u001b[0m\u001b[1;33m(\u001b[0m\u001b[0mdata\u001b[0m\u001b[1;33m,\u001b[0m \u001b[0mindex\u001b[0m\u001b[1;33m,\u001b[0m \u001b[0mcolumns\u001b[0m\u001b[1;33m,\u001b[0m \u001b[0mdtype\u001b[0m\u001b[1;33m=\u001b[0m\u001b[0mdtype\u001b[0m\u001b[1;33m,\u001b[0m \u001b[0mcopy\u001b[0m\u001b[1;33m=\u001b[0m\u001b[0mcopy\u001b[0m\u001b[1;33m)\u001b[0m\u001b[1;33m\u001b[0m\u001b[1;33m\u001b[0m\u001b[0m\n\u001b[0m\u001b[0;32m    559\u001b[0m \u001b[1;33m\u001b[0m\u001b[0m\n\u001b[0;32m    560\u001b[0m         \u001b[1;31m# For data is list-like, or Iterable (will consume into list)\u001b[0m\u001b[1;33m\u001b[0m\u001b[1;33m\u001b[0m\u001b[1;33m\u001b[0m\u001b[0m\n",
      "\u001b[1;32m~\\Desktop\\Myproject\\env\\lib\\site-packages\\pandas\\core\\internals\\construction.py\u001b[0m in \u001b[0;36minit_ndarray\u001b[1;34m(values, index, columns, dtype, copy)\u001b[0m\n\u001b[0;32m    236\u001b[0m         \u001b[0mblock_values\u001b[0m \u001b[1;33m=\u001b[0m \u001b[1;33m[\u001b[0m\u001b[0mvalues\u001b[0m\u001b[1;33m]\u001b[0m\u001b[1;33m\u001b[0m\u001b[1;33m\u001b[0m\u001b[0m\n\u001b[0;32m    237\u001b[0m \u001b[1;33m\u001b[0m\u001b[0m\n\u001b[1;32m--> 238\u001b[1;33m     \u001b[1;32mreturn\u001b[0m \u001b[0mcreate_block_manager_from_blocks\u001b[0m\u001b[1;33m(\u001b[0m\u001b[0mblock_values\u001b[0m\u001b[1;33m,\u001b[0m \u001b[1;33m[\u001b[0m\u001b[0mcolumns\u001b[0m\u001b[1;33m,\u001b[0m \u001b[0mindex\u001b[0m\u001b[1;33m]\u001b[0m\u001b[1;33m)\u001b[0m\u001b[1;33m\u001b[0m\u001b[1;33m\u001b[0m\u001b[0m\n\u001b[0m\u001b[0;32m    239\u001b[0m \u001b[1;33m\u001b[0m\u001b[0m\n\u001b[0;32m    240\u001b[0m \u001b[1;33m\u001b[0m\u001b[0m\n",
      "\u001b[1;32m~\\Desktop\\Myproject\\env\\lib\\site-packages\\pandas\\core\\internals\\managers.py\u001b[0m in \u001b[0;36mcreate_block_manager_from_blocks\u001b[1;34m(blocks, axes)\u001b[0m\n\u001b[0;32m   1685\u001b[0m         \u001b[0mblocks\u001b[0m \u001b[1;33m=\u001b[0m \u001b[1;33m[\u001b[0m\u001b[0mgetattr\u001b[0m\u001b[1;33m(\u001b[0m\u001b[0mb\u001b[0m\u001b[1;33m,\u001b[0m \u001b[1;34m\"values\"\u001b[0m\u001b[1;33m,\u001b[0m \u001b[0mb\u001b[0m\u001b[1;33m)\u001b[0m \u001b[1;32mfor\u001b[0m \u001b[0mb\u001b[0m \u001b[1;32min\u001b[0m \u001b[0mblocks\u001b[0m\u001b[1;33m]\u001b[0m\u001b[1;33m\u001b[0m\u001b[1;33m\u001b[0m\u001b[0m\n\u001b[0;32m   1686\u001b[0m         \u001b[0mtot_items\u001b[0m \u001b[1;33m=\u001b[0m \u001b[0msum\u001b[0m\u001b[1;33m(\u001b[0m\u001b[0mb\u001b[0m\u001b[1;33m.\u001b[0m\u001b[0mshape\u001b[0m\u001b[1;33m[\u001b[0m\u001b[1;36m0\u001b[0m\u001b[1;33m]\u001b[0m \u001b[1;32mfor\u001b[0m \u001b[0mb\u001b[0m \u001b[1;32min\u001b[0m \u001b[0mblocks\u001b[0m\u001b[1;33m)\u001b[0m\u001b[1;33m\u001b[0m\u001b[1;33m\u001b[0m\u001b[0m\n\u001b[1;32m-> 1687\u001b[1;33m         \u001b[1;32mraise\u001b[0m \u001b[0mconstruction_error\u001b[0m\u001b[1;33m(\u001b[0m\u001b[0mtot_items\u001b[0m\u001b[1;33m,\u001b[0m \u001b[0mblocks\u001b[0m\u001b[1;33m[\u001b[0m\u001b[1;36m0\u001b[0m\u001b[1;33m]\u001b[0m\u001b[1;33m.\u001b[0m\u001b[0mshape\u001b[0m\u001b[1;33m[\u001b[0m\u001b[1;36m1\u001b[0m\u001b[1;33m:\u001b[0m\u001b[1;33m]\u001b[0m\u001b[1;33m,\u001b[0m \u001b[0maxes\u001b[0m\u001b[1;33m,\u001b[0m \u001b[0me\u001b[0m\u001b[1;33m)\u001b[0m\u001b[1;33m\u001b[0m\u001b[1;33m\u001b[0m\u001b[0m\n\u001b[0m\u001b[0;32m   1688\u001b[0m \u001b[1;33m\u001b[0m\u001b[0m\n\u001b[0;32m   1689\u001b[0m \u001b[1;33m\u001b[0m\u001b[0m\n",
      "\u001b[1;31mValueError\u001b[0m: Shape of passed values is (5, 1), indices imply (1, 5)"
     ]
    }
   ],
   "source": [
    "Pri=np.array([999,25000,8000,70000,500])\n",
    "Price=pd.DataFrame(Pri,index=[\"Price\"],\n",
    "                columns=[\"Headphones\",\"Mobile\",\"VideoGames\",\"Laptop\",\"Mouse\"])\n",
    "\n"
   ]
  },
  {
   "cell_type": "code",
   "execution_count": 113,
   "id": "a4f7cbb7",
   "metadata": {},
   "outputs": [
    {
     "data": {
      "text/html": [
       "<div>\n",
       "<style scoped>\n",
       "    .dataframe tbody tr th:only-of-type {\n",
       "        vertical-align: middle;\n",
       "    }\n",
       "\n",
       "    .dataframe tbody tr th {\n",
       "        vertical-align: top;\n",
       "    }\n",
       "\n",
       "    .dataframe thead th {\n",
       "        text-align: right;\n",
       "    }\n",
       "</style>\n",
       "<table border=\"1\" class=\"dataframe\">\n",
       "  <thead>\n",
       "    <tr style=\"text-align: right;\">\n",
       "      <th></th>\n",
       "      <th>Headphones</th>\n",
       "      <th>Mobile</th>\n",
       "      <th>VideoGames</th>\n",
       "      <th>Laptop</th>\n",
       "      <th>Mouse</th>\n",
       "    </tr>\n",
       "  </thead>\n",
       "  <tbody>\n",
       "    <tr>\n",
       "      <th>Price</th>\n",
       "      <td>999</td>\n",
       "      <td>25000</td>\n",
       "      <td>8000</td>\n",
       "      <td>70000</td>\n",
       "      <td>500</td>\n",
       "    </tr>\n",
       "  </tbody>\n",
       "</table>\n",
       "</div>"
      ],
      "text/plain": [
       "       Headphones  Mobile  VideoGames  Laptop  Mouse\n",
       "Price         999   25000        8000   70000    500"
      ]
     },
     "execution_count": 113,
     "metadata": {},
     "output_type": "execute_result"
    }
   ],
   "source": [
    "Price=pd.DataFrame(Pri.reshape(1,5),index=[\"Price\"],\n",
    "                columns=[\"Headphones\",\"Mobile\",\"VideoGames\",\"Laptop\",\"Mouse\"])\n",
    "Price"
   ]
  },
  {
   "cell_type": "code",
   "execution_count": 114,
   "id": "a8604471",
   "metadata": {},
   "outputs": [
    {
     "data": {
      "text/html": [
       "<div>\n",
       "<style scoped>\n",
       "    .dataframe tbody tr th:only-of-type {\n",
       "        vertical-align: middle;\n",
       "    }\n",
       "\n",
       "    .dataframe tbody tr th {\n",
       "        vertical-align: top;\n",
       "    }\n",
       "\n",
       "    .dataframe thead th {\n",
       "        text-align: right;\n",
       "    }\n",
       "</style>\n",
       "<table border=\"1\" class=\"dataframe\">\n",
       "  <thead>\n",
       "    <tr style=\"text-align: right;\">\n",
       "      <th></th>\n",
       "      <th>Headphones</th>\n",
       "      <th>Mobile</th>\n",
       "      <th>VideoGames</th>\n",
       "      <th>Laptop</th>\n",
       "      <th>Mouse</th>\n",
       "    </tr>\n",
       "  </thead>\n",
       "  <tbody>\n",
       "    <tr>\n",
       "      <th>Price</th>\n",
       "      <td>999</td>\n",
       "      <td>25000</td>\n",
       "      <td>8000</td>\n",
       "      <td>70000</td>\n",
       "      <td>500</td>\n",
       "    </tr>\n",
       "  </tbody>\n",
       "</table>\n",
       "</div>"
      ],
      "text/plain": [
       "       Headphones  Mobile  VideoGames  Laptop  Mouse\n",
       "Price         999   25000        8000   70000    500"
      ]
     },
     "execution_count": 114,
     "metadata": {},
     "output_type": "execute_result"
    }
   ],
   "source": [
    "Price"
   ]
  },
  {
   "cell_type": "code",
   "execution_count": 118,
   "id": "c7398076",
   "metadata": {},
   "outputs": [
    {
     "data": {
      "text/plain": [
       "array([[98, 81, 36, 93, 28],\n",
       "       [82, 47, 50, 27, 96],\n",
       "       [35, 73, 47, 64, 97],\n",
       "       [95, 85, 67, 50, 38],\n",
       "       [29, 61, 82, 21, 36],\n",
       "       [98, 25, 78, 20, 24],\n",
       "       [56, 71, 47, 51, 22]])"
      ]
     },
     "execution_count": 118,
     "metadata": {},
     "output_type": "execute_result"
    }
   ],
   "source": [
    "Sales_data"
   ]
  },
  {
   "cell_type": "code",
   "execution_count": 120,
   "id": "8954f812",
   "metadata": {},
   "outputs": [
    {
     "data": {
      "text/plain": [
       "array([8934902, 3594918, 6764465, 6274905, 3697971, 2758902, 5787944])"
      ]
     },
     "execution_count": 120,
     "metadata": {},
     "output_type": "execute_result"
    }
   ],
   "source": [
    "Total_Price=Pri.dot(Sales_data.T)\n",
    "Total_Price\n"
   ]
  },
  {
   "cell_type": "code",
   "execution_count": 106,
   "id": "b375ec8e",
   "metadata": {
    "scrolled": true
   },
   "outputs": [
    {
     "data": {
      "text/plain": [
       "array([[7, 5, 6, 2],\n",
       "       [9, 3, 5, 7],\n",
       "       [9, 2, 2, 3]])"
      ]
     },
     "execution_count": 106,
     "metadata": {},
     "output_type": "execute_result"
    }
   ],
   "source": [
    "np.random.seed(1)\n",
    "samparr=np.random.randint(2,10,size=(3,4))\n",
    "samparr"
   ]
  },
  {
   "cell_type": "code",
   "execution_count": 107,
   "id": "b69526a9",
   "metadata": {},
   "outputs": [
    {
     "data": {
      "text/html": [
       "<div>\n",
       "<style scoped>\n",
       "    .dataframe tbody tr th:only-of-type {\n",
       "        vertical-align: middle;\n",
       "    }\n",
       "\n",
       "    .dataframe tbody tr th {\n",
       "        vertical-align: top;\n",
       "    }\n",
       "\n",
       "    .dataframe thead th {\n",
       "        text-align: right;\n",
       "    }\n",
       "</style>\n",
       "<table border=\"1\" class=\"dataframe\">\n",
       "  <thead>\n",
       "    <tr style=\"text-align: right;\">\n",
       "      <th></th>\n",
       "      <th>item1</th>\n",
       "      <th>item2</th>\n",
       "      <th>item3</th>\n",
       "      <th>item4</th>\n",
       "    </tr>\n",
       "  </thead>\n",
       "  <tbody>\n",
       "    <tr>\n",
       "      <th>Mon</th>\n",
       "      <td>7</td>\n",
       "      <td>5</td>\n",
       "      <td>6</td>\n",
       "      <td>2</td>\n",
       "    </tr>\n",
       "    <tr>\n",
       "      <th>Tue</th>\n",
       "      <td>9</td>\n",
       "      <td>3</td>\n",
       "      <td>5</td>\n",
       "      <td>7</td>\n",
       "    </tr>\n",
       "    <tr>\n",
       "      <th>Wed</th>\n",
       "      <td>9</td>\n",
       "      <td>2</td>\n",
       "      <td>2</td>\n",
       "      <td>3</td>\n",
       "    </tr>\n",
       "  </tbody>\n",
       "</table>\n",
       "</div>"
      ],
      "text/plain": [
       "     item1  item2  item3  item4\n",
       "Mon      7      5      6      2\n",
       "Tue      9      3      5      7\n",
       "Wed      9      2      2      3"
      ]
     },
     "execution_count": 107,
     "metadata": {},
     "output_type": "execute_result"
    }
   ],
   "source": [
    "sampdf=pd.DataFrame(samparr,index=[\"Mon\",\"Tue\",\"Wed\"],columns=[\"item1\",\"item2\",\"item3\",\"item4\"])\n",
    "sampdf"
   ]
  },
  {
   "cell_type": "code",
   "execution_count": 122,
   "id": "0f1c3635",
   "metadata": {},
   "outputs": [
    {
     "data": {
      "text/html": [
       "<div>\n",
       "<style scoped>\n",
       "    .dataframe tbody tr th:only-of-type {\n",
       "        vertical-align: middle;\n",
       "    }\n",
       "\n",
       "    .dataframe tbody tr th {\n",
       "        vertical-align: top;\n",
       "    }\n",
       "\n",
       "    .dataframe thead th {\n",
       "        text-align: right;\n",
       "    }\n",
       "</style>\n",
       "<table border=\"1\" class=\"dataframe\">\n",
       "  <thead>\n",
       "    <tr style=\"text-align: right;\">\n",
       "      <th></th>\n",
       "      <th>Mon</th>\n",
       "      <th>Tue</th>\n",
       "      <th>Wed</th>\n",
       "    </tr>\n",
       "  </thead>\n",
       "  <tbody>\n",
       "    <tr>\n",
       "      <th>item1</th>\n",
       "      <td>7</td>\n",
       "      <td>9</td>\n",
       "      <td>9</td>\n",
       "    </tr>\n",
       "    <tr>\n",
       "      <th>item2</th>\n",
       "      <td>5</td>\n",
       "      <td>3</td>\n",
       "      <td>2</td>\n",
       "    </tr>\n",
       "    <tr>\n",
       "      <th>item3</th>\n",
       "      <td>6</td>\n",
       "      <td>5</td>\n",
       "      <td>2</td>\n",
       "    </tr>\n",
       "    <tr>\n",
       "      <th>item4</th>\n",
       "      <td>2</td>\n",
       "      <td>7</td>\n",
       "      <td>3</td>\n",
       "    </tr>\n",
       "  </tbody>\n",
       "</table>\n",
       "</div>"
      ],
      "text/plain": [
       "       Mon  Tue  Wed\n",
       "item1    7    9    9\n",
       "item2    5    3    2\n",
       "item3    6    5    2\n",
       "item4    2    7    3"
      ]
     },
     "execution_count": 122,
     "metadata": {},
     "output_type": "execute_result"
    }
   ],
   "source": [
    "sampdf.T"
   ]
  },
  {
   "cell_type": "code",
   "execution_count": 168,
   "id": "c3836a48",
   "metadata": {},
   "outputs": [
    {
     "data": {
      "text/plain": [
       "(4, (4, 3))"
      ]
     },
     "execution_count": 168,
     "metadata": {},
     "output_type": "execute_result"
    }
   ],
   "source": [
    "sampprice.size,sampdf.T.shape"
   ]
  },
  {
   "cell_type": "code",
   "execution_count": 121,
   "id": "d7d9c5ce",
   "metadata": {},
   "outputs": [
    {
     "data": {
      "text/plain": [
       "(array([ 5, 10,  2, 20]), (4,))"
      ]
     },
     "execution_count": 121,
     "metadata": {},
     "output_type": "execute_result"
    }
   ],
   "source": [
    "sampprice=np.array([5,10,2,20])\n",
    "sampprice,sampprice.shape"
   ]
  },
  {
   "cell_type": "code",
   "execution_count": 127,
   "id": "d3f286d1",
   "metadata": {},
   "outputs": [
    {
     "data": {
      "text/plain": [
       "array([137, 225, 129])"
      ]
     },
     "execution_count": 127,
     "metadata": {},
     "output_type": "execute_result"
    }
   ],
   "source": [
    "samp_total=sampprice.dot(sampdf.T)\n",
    "samp_total"
   ]
  },
  {
   "cell_type": "code",
   "execution_count": 128,
   "id": "32580511",
   "metadata": {},
   "outputs": [
    {
     "data": {
      "text/html": [
       "<div>\n",
       "<style scoped>\n",
       "    .dataframe tbody tr th:only-of-type {\n",
       "        vertical-align: middle;\n",
       "    }\n",
       "\n",
       "    .dataframe tbody tr th {\n",
       "        vertical-align: top;\n",
       "    }\n",
       "\n",
       "    .dataframe thead th {\n",
       "        text-align: right;\n",
       "    }\n",
       "</style>\n",
       "<table border=\"1\" class=\"dataframe\">\n",
       "  <thead>\n",
       "    <tr style=\"text-align: right;\">\n",
       "      <th></th>\n",
       "      <th>Headphones</th>\n",
       "      <th>Mobile</th>\n",
       "      <th>VideoGames</th>\n",
       "      <th>Laptop</th>\n",
       "      <th>Mouse</th>\n",
       "    </tr>\n",
       "  </thead>\n",
       "  <tbody>\n",
       "    <tr>\n",
       "      <th>Mon</th>\n",
       "      <td>98</td>\n",
       "      <td>81</td>\n",
       "      <td>36</td>\n",
       "      <td>93</td>\n",
       "      <td>28</td>\n",
       "    </tr>\n",
       "    <tr>\n",
       "      <th>Tues</th>\n",
       "      <td>82</td>\n",
       "      <td>47</td>\n",
       "      <td>50</td>\n",
       "      <td>27</td>\n",
       "      <td>96</td>\n",
       "    </tr>\n",
       "    <tr>\n",
       "      <th>Wed</th>\n",
       "      <td>35</td>\n",
       "      <td>73</td>\n",
       "      <td>47</td>\n",
       "      <td>64</td>\n",
       "      <td>97</td>\n",
       "    </tr>\n",
       "    <tr>\n",
       "      <th>Thurs</th>\n",
       "      <td>95</td>\n",
       "      <td>85</td>\n",
       "      <td>67</td>\n",
       "      <td>50</td>\n",
       "      <td>38</td>\n",
       "    </tr>\n",
       "    <tr>\n",
       "      <th>Fri</th>\n",
       "      <td>29</td>\n",
       "      <td>61</td>\n",
       "      <td>82</td>\n",
       "      <td>21</td>\n",
       "      <td>36</td>\n",
       "    </tr>\n",
       "    <tr>\n",
       "      <th>Sat</th>\n",
       "      <td>98</td>\n",
       "      <td>25</td>\n",
       "      <td>78</td>\n",
       "      <td>20</td>\n",
       "      <td>24</td>\n",
       "    </tr>\n",
       "    <tr>\n",
       "      <th>Sun</th>\n",
       "      <td>56</td>\n",
       "      <td>71</td>\n",
       "      <td>47</td>\n",
       "      <td>51</td>\n",
       "      <td>22</td>\n",
       "    </tr>\n",
       "  </tbody>\n",
       "</table>\n",
       "</div>"
      ],
      "text/plain": [
       "       Headphones  Mobile  VideoGames  Laptop  Mouse\n",
       "Mon            98      81          36      93     28\n",
       "Tues           82      47          50      27     96\n",
       "Wed            35      73          47      64     97\n",
       "Thurs          95      85          67      50     38\n",
       "Fri            29      61          82      21     36\n",
       "Sat            98      25          78      20     24\n",
       "Sun            56      71          47      51     22"
      ]
     },
     "execution_count": 128,
     "metadata": {},
     "output_type": "execute_result"
    }
   ],
   "source": [
    "weekly_sales"
   ]
  },
  {
   "cell_type": "code",
   "execution_count": 129,
   "id": "1f84d86d",
   "metadata": {},
   "outputs": [
    {
     "data": {
      "text/plain": [
       "array([8934902, 3594918, 6764465, 6274905, 3697971, 2758902, 5787944])"
      ]
     },
     "execution_count": 129,
     "metadata": {},
     "output_type": "execute_result"
    }
   ],
   "source": [
    "Total_Price"
   ]
  },
  {
   "cell_type": "code",
   "execution_count": 132,
   "id": "b82a94d5",
   "metadata": {},
   "outputs": [],
   "source": [
    "weekly_sales[\"Total_Sales($)\"]=Total_Price\n"
   ]
  },
  {
   "cell_type": "code",
   "execution_count": 152,
   "id": "b1169f7b",
   "metadata": {},
   "outputs": [
    {
     "ename": "KeyError",
     "evalue": "\"['Total_Sales_PerDay'] not found in axis\"",
     "output_type": "error",
     "traceback": [
      "\u001b[1;31m---------------------------------------------------------------------------\u001b[0m",
      "\u001b[1;31mKeyError\u001b[0m                                  Traceback (most recent call last)",
      "\u001b[1;32m<ipython-input-152-dcb6e1bc1619>\u001b[0m in \u001b[0;36m<module>\u001b[1;34m\u001b[0m\n\u001b[1;32m----> 1\u001b[1;33m \u001b[0mweekly_sales\u001b[0m\u001b[1;33m.\u001b[0m\u001b[0mdrop\u001b[0m\u001b[1;33m(\u001b[0m\u001b[0mcolumns\u001b[0m\u001b[1;33m=\u001b[0m\u001b[1;34m\"Total_Sales_PerDay\"\u001b[0m\u001b[1;33m,\u001b[0m\u001b[0maxis\u001b[0m\u001b[1;33m=\u001b[0m\u001b[1;36m1\u001b[0m\u001b[1;33m,\u001b[0m\u001b[0minplace\u001b[0m\u001b[1;33m=\u001b[0m\u001b[1;32mTrue\u001b[0m\u001b[1;33m)\u001b[0m\u001b[1;33m\u001b[0m\u001b[1;33m\u001b[0m\u001b[0m\n\u001b[0m",
      "\u001b[1;32m~\\Desktop\\Myproject\\env\\lib\\site-packages\\pandas\\core\\frame.py\u001b[0m in \u001b[0;36mdrop\u001b[1;34m(self, labels, axis, index, columns, level, inplace, errors)\u001b[0m\n\u001b[0;32m   4306\u001b[0m                 \u001b[0mweight\u001b[0m  \u001b[1;36m1.0\u001b[0m     \u001b[1;36m0.8\u001b[0m\u001b[1;33m\u001b[0m\u001b[1;33m\u001b[0m\u001b[0m\n\u001b[0;32m   4307\u001b[0m         \"\"\"\n\u001b[1;32m-> 4308\u001b[1;33m         return super().drop(\n\u001b[0m\u001b[0;32m   4309\u001b[0m             \u001b[0mlabels\u001b[0m\u001b[1;33m=\u001b[0m\u001b[0mlabels\u001b[0m\u001b[1;33m,\u001b[0m\u001b[1;33m\u001b[0m\u001b[1;33m\u001b[0m\u001b[0m\n\u001b[0;32m   4310\u001b[0m             \u001b[0maxis\u001b[0m\u001b[1;33m=\u001b[0m\u001b[0maxis\u001b[0m\u001b[1;33m,\u001b[0m\u001b[1;33m\u001b[0m\u001b[1;33m\u001b[0m\u001b[0m\n",
      "\u001b[1;32m~\\Desktop\\Myproject\\env\\lib\\site-packages\\pandas\\core\\generic.py\u001b[0m in \u001b[0;36mdrop\u001b[1;34m(self, labels, axis, index, columns, level, inplace, errors)\u001b[0m\n\u001b[0;32m   4151\u001b[0m         \u001b[1;32mfor\u001b[0m \u001b[0maxis\u001b[0m\u001b[1;33m,\u001b[0m \u001b[0mlabels\u001b[0m \u001b[1;32min\u001b[0m \u001b[0maxes\u001b[0m\u001b[1;33m.\u001b[0m\u001b[0mitems\u001b[0m\u001b[1;33m(\u001b[0m\u001b[1;33m)\u001b[0m\u001b[1;33m:\u001b[0m\u001b[1;33m\u001b[0m\u001b[1;33m\u001b[0m\u001b[0m\n\u001b[0;32m   4152\u001b[0m             \u001b[1;32mif\u001b[0m \u001b[0mlabels\u001b[0m \u001b[1;32mis\u001b[0m \u001b[1;32mnot\u001b[0m \u001b[1;32mNone\u001b[0m\u001b[1;33m:\u001b[0m\u001b[1;33m\u001b[0m\u001b[1;33m\u001b[0m\u001b[0m\n\u001b[1;32m-> 4153\u001b[1;33m                 \u001b[0mobj\u001b[0m \u001b[1;33m=\u001b[0m \u001b[0mobj\u001b[0m\u001b[1;33m.\u001b[0m\u001b[0m_drop_axis\u001b[0m\u001b[1;33m(\u001b[0m\u001b[0mlabels\u001b[0m\u001b[1;33m,\u001b[0m \u001b[0maxis\u001b[0m\u001b[1;33m,\u001b[0m \u001b[0mlevel\u001b[0m\u001b[1;33m=\u001b[0m\u001b[0mlevel\u001b[0m\u001b[1;33m,\u001b[0m \u001b[0merrors\u001b[0m\u001b[1;33m=\u001b[0m\u001b[0merrors\u001b[0m\u001b[1;33m)\u001b[0m\u001b[1;33m\u001b[0m\u001b[1;33m\u001b[0m\u001b[0m\n\u001b[0m\u001b[0;32m   4154\u001b[0m \u001b[1;33m\u001b[0m\u001b[0m\n\u001b[0;32m   4155\u001b[0m         \u001b[1;32mif\u001b[0m \u001b[0minplace\u001b[0m\u001b[1;33m:\u001b[0m\u001b[1;33m\u001b[0m\u001b[1;33m\u001b[0m\u001b[0m\n",
      "\u001b[1;32m~\\Desktop\\Myproject\\env\\lib\\site-packages\\pandas\\core\\generic.py\u001b[0m in \u001b[0;36m_drop_axis\u001b[1;34m(self, labels, axis, level, errors)\u001b[0m\n\u001b[0;32m   4186\u001b[0m                 \u001b[0mnew_axis\u001b[0m \u001b[1;33m=\u001b[0m \u001b[0maxis\u001b[0m\u001b[1;33m.\u001b[0m\u001b[0mdrop\u001b[0m\u001b[1;33m(\u001b[0m\u001b[0mlabels\u001b[0m\u001b[1;33m,\u001b[0m \u001b[0mlevel\u001b[0m\u001b[1;33m=\u001b[0m\u001b[0mlevel\u001b[0m\u001b[1;33m,\u001b[0m \u001b[0merrors\u001b[0m\u001b[1;33m=\u001b[0m\u001b[0merrors\u001b[0m\u001b[1;33m)\u001b[0m\u001b[1;33m\u001b[0m\u001b[1;33m\u001b[0m\u001b[0m\n\u001b[0;32m   4187\u001b[0m             \u001b[1;32melse\u001b[0m\u001b[1;33m:\u001b[0m\u001b[1;33m\u001b[0m\u001b[1;33m\u001b[0m\u001b[0m\n\u001b[1;32m-> 4188\u001b[1;33m                 \u001b[0mnew_axis\u001b[0m \u001b[1;33m=\u001b[0m \u001b[0maxis\u001b[0m\u001b[1;33m.\u001b[0m\u001b[0mdrop\u001b[0m\u001b[1;33m(\u001b[0m\u001b[0mlabels\u001b[0m\u001b[1;33m,\u001b[0m \u001b[0merrors\u001b[0m\u001b[1;33m=\u001b[0m\u001b[0merrors\u001b[0m\u001b[1;33m)\u001b[0m\u001b[1;33m\u001b[0m\u001b[1;33m\u001b[0m\u001b[0m\n\u001b[0m\u001b[0;32m   4189\u001b[0m             \u001b[0mresult\u001b[0m \u001b[1;33m=\u001b[0m \u001b[0mself\u001b[0m\u001b[1;33m.\u001b[0m\u001b[0mreindex\u001b[0m\u001b[1;33m(\u001b[0m\u001b[1;33m**\u001b[0m\u001b[1;33m{\u001b[0m\u001b[0maxis_name\u001b[0m\u001b[1;33m:\u001b[0m \u001b[0mnew_axis\u001b[0m\u001b[1;33m}\u001b[0m\u001b[1;33m)\u001b[0m\u001b[1;33m\u001b[0m\u001b[1;33m\u001b[0m\u001b[0m\n\u001b[0;32m   4190\u001b[0m \u001b[1;33m\u001b[0m\u001b[0m\n",
      "\u001b[1;32m~\\Desktop\\Myproject\\env\\lib\\site-packages\\pandas\\core\\indexes\\base.py\u001b[0m in \u001b[0;36mdrop\u001b[1;34m(self, labels, errors)\u001b[0m\n\u001b[0;32m   5590\u001b[0m         \u001b[1;32mif\u001b[0m \u001b[0mmask\u001b[0m\u001b[1;33m.\u001b[0m\u001b[0many\u001b[0m\u001b[1;33m(\u001b[0m\u001b[1;33m)\u001b[0m\u001b[1;33m:\u001b[0m\u001b[1;33m\u001b[0m\u001b[1;33m\u001b[0m\u001b[0m\n\u001b[0;32m   5591\u001b[0m             \u001b[1;32mif\u001b[0m \u001b[0merrors\u001b[0m \u001b[1;33m!=\u001b[0m \u001b[1;34m\"ignore\"\u001b[0m\u001b[1;33m:\u001b[0m\u001b[1;33m\u001b[0m\u001b[1;33m\u001b[0m\u001b[0m\n\u001b[1;32m-> 5592\u001b[1;33m                 \u001b[1;32mraise\u001b[0m \u001b[0mKeyError\u001b[0m\u001b[1;33m(\u001b[0m\u001b[1;34mf\"{labels[mask]} not found in axis\"\u001b[0m\u001b[1;33m)\u001b[0m\u001b[1;33m\u001b[0m\u001b[1;33m\u001b[0m\u001b[0m\n\u001b[0m\u001b[0;32m   5593\u001b[0m             \u001b[0mindexer\u001b[0m \u001b[1;33m=\u001b[0m \u001b[0mindexer\u001b[0m\u001b[1;33m[\u001b[0m\u001b[1;33m~\u001b[0m\u001b[0mmask\u001b[0m\u001b[1;33m]\u001b[0m\u001b[1;33m\u001b[0m\u001b[1;33m\u001b[0m\u001b[0m\n\u001b[0;32m   5594\u001b[0m         \u001b[1;32mreturn\u001b[0m \u001b[0mself\u001b[0m\u001b[1;33m.\u001b[0m\u001b[0mdelete\u001b[0m\u001b[1;33m(\u001b[0m\u001b[0mindexer\u001b[0m\u001b[1;33m)\u001b[0m\u001b[1;33m\u001b[0m\u001b[1;33m\u001b[0m\u001b[0m\n",
      "\u001b[1;31mKeyError\u001b[0m: \"['Total_Sales_PerDay'] not found in axis\""
     ]
    }
   ],
   "source": [
    "weekly_sales.drop(columns=\"Total_Sales_PerDay\",axis=1,inplace=True)"
   ]
  },
  {
   "cell_type": "code",
   "execution_count": 140,
   "id": "dac3b531",
   "metadata": {},
   "outputs": [
    {
     "data": {
      "text/html": [
       "<div>\n",
       "<style scoped>\n",
       "    .dataframe tbody tr th:only-of-type {\n",
       "        vertical-align: middle;\n",
       "    }\n",
       "\n",
       "    .dataframe tbody tr th {\n",
       "        vertical-align: top;\n",
       "    }\n",
       "\n",
       "    .dataframe thead th {\n",
       "        text-align: right;\n",
       "    }\n",
       "</style>\n",
       "<table border=\"1\" class=\"dataframe\">\n",
       "  <thead>\n",
       "    <tr style=\"text-align: right;\">\n",
       "      <th></th>\n",
       "      <th>Headphones</th>\n",
       "      <th>Mobile</th>\n",
       "      <th>VideoGames</th>\n",
       "      <th>Laptop</th>\n",
       "      <th>Mouse</th>\n",
       "      <th>Total_Sales($)</th>\n",
       "    </tr>\n",
       "  </thead>\n",
       "  <tbody>\n",
       "    <tr>\n",
       "      <th>Mon</th>\n",
       "      <td>98</td>\n",
       "      <td>81</td>\n",
       "      <td>36</td>\n",
       "      <td>93</td>\n",
       "      <td>28</td>\n",
       "      <td>8934902</td>\n",
       "    </tr>\n",
       "    <tr>\n",
       "      <th>Tues</th>\n",
       "      <td>82</td>\n",
       "      <td>47</td>\n",
       "      <td>50</td>\n",
       "      <td>27</td>\n",
       "      <td>96</td>\n",
       "      <td>3594918</td>\n",
       "    </tr>\n",
       "    <tr>\n",
       "      <th>Wed</th>\n",
       "      <td>35</td>\n",
       "      <td>73</td>\n",
       "      <td>47</td>\n",
       "      <td>64</td>\n",
       "      <td>97</td>\n",
       "      <td>6764465</td>\n",
       "    </tr>\n",
       "    <tr>\n",
       "      <th>Thurs</th>\n",
       "      <td>95</td>\n",
       "      <td>85</td>\n",
       "      <td>67</td>\n",
       "      <td>50</td>\n",
       "      <td>38</td>\n",
       "      <td>6274905</td>\n",
       "    </tr>\n",
       "    <tr>\n",
       "      <th>Fri</th>\n",
       "      <td>29</td>\n",
       "      <td>61</td>\n",
       "      <td>82</td>\n",
       "      <td>21</td>\n",
       "      <td>36</td>\n",
       "      <td>3697971</td>\n",
       "    </tr>\n",
       "    <tr>\n",
       "      <th>Sat</th>\n",
       "      <td>98</td>\n",
       "      <td>25</td>\n",
       "      <td>78</td>\n",
       "      <td>20</td>\n",
       "      <td>24</td>\n",
       "      <td>2758902</td>\n",
       "    </tr>\n",
       "    <tr>\n",
       "      <th>Sun</th>\n",
       "      <td>56</td>\n",
       "      <td>71</td>\n",
       "      <td>47</td>\n",
       "      <td>51</td>\n",
       "      <td>22</td>\n",
       "      <td>5787944</td>\n",
       "    </tr>\n",
       "  </tbody>\n",
       "</table>\n",
       "</div>"
      ],
      "text/plain": [
       "       Headphones  Mobile  VideoGames  Laptop  Mouse  Total_Sales($)\n",
       "Mon            98      81          36      93     28         8934902\n",
       "Tues           82      47          50      27     96         3594918\n",
       "Wed            35      73          47      64     97         6764465\n",
       "Thurs          95      85          67      50     38         6274905\n",
       "Fri            29      61          82      21     36         3697971\n",
       "Sat            98      25          78      20     24         2758902\n",
       "Sun            56      71          47      51     22         5787944"
      ]
     },
     "execution_count": 140,
     "metadata": {},
     "output_type": "execute_result"
    }
   ],
   "source": [
    "weekly_sales"
   ]
  },
  {
   "cell_type": "markdown",
   "id": "9407190a",
   "metadata": {},
   "source": [
    "## Comparison Operators"
   ]
  },
  {
   "cell_type": "code",
   "execution_count": 141,
   "id": "d67134d2",
   "metadata": {},
   "outputs": [
    {
     "data": {
      "text/plain": [
       "(array([1, 2, 3]),\n",
       " array([[1, 2, 3],\n",
       "        [4, 5, 6]]))"
      ]
     },
     "execution_count": 141,
     "metadata": {},
     "output_type": "execute_result"
    }
   ],
   "source": [
    "arr1,arr2"
   ]
  },
  {
   "cell_type": "code",
   "execution_count": 142,
   "id": "210989c8",
   "metadata": {},
   "outputs": [
    {
     "data": {
      "text/plain": [
       "array([[False, False, False],\n",
       "       [False, False, False]])"
      ]
     },
     "execution_count": 142,
     "metadata": {},
     "output_type": "execute_result"
    }
   ],
   "source": [
    "arr1>arr2"
   ]
  },
  {
   "cell_type": "code",
   "execution_count": 143,
   "id": "77380b80",
   "metadata": {},
   "outputs": [
    {
     "data": {
      "text/plain": [
       "array([[ True,  True,  True],\n",
       "       [False, False, False]])"
      ]
     },
     "execution_count": 143,
     "metadata": {},
     "output_type": "execute_result"
    }
   ],
   "source": [
    "arr1>=arr2"
   ]
  },
  {
   "cell_type": "code",
   "execution_count": 145,
   "id": "13313b04",
   "metadata": {},
   "outputs": [
    {
     "data": {
      "text/plain": [
       "array([[ True,  True,  True],\n",
       "       [False, False, False]])"
      ]
     },
     "execution_count": 145,
     "metadata": {},
     "output_type": "execute_result"
    }
   ],
   "source": [
    "bool_arr=arr1>=arr2\n",
    "bool_arr"
   ]
  },
  {
   "cell_type": "code",
   "execution_count": 147,
   "id": "e696bac7",
   "metadata": {},
   "outputs": [
    {
     "data": {
      "text/plain": [
       "(dtype('bool'), numpy.ndarray)"
      ]
     },
     "execution_count": 147,
     "metadata": {},
     "output_type": "execute_result"
    }
   ],
   "source": [
    "bool_arr.dtype,type(bool_arr)"
   ]
  },
  {
   "cell_type": "code",
   "execution_count": 148,
   "id": "c89a545f",
   "metadata": {},
   "outputs": [
    {
     "data": {
      "text/plain": [
       "array([[ True,  True,  True],\n",
       "       [ True, False, False]])"
      ]
     },
     "execution_count": 148,
     "metadata": {},
     "output_type": "execute_result"
    }
   ],
   "source": [
    "arr2<5"
   ]
  },
  {
   "cell_type": "code",
   "execution_count": 149,
   "id": "98b30a71",
   "metadata": {},
   "outputs": [
    {
     "data": {
      "text/plain": [
       "array([[ True,  True,  True],\n",
       "       [False, False, False]])"
      ]
     },
     "execution_count": 149,
     "metadata": {},
     "output_type": "execute_result"
    }
   ],
   "source": [
    "arr2==arr1"
   ]
  },
  {
   "cell_type": "code",
   "execution_count": 150,
   "id": "cf20682f",
   "metadata": {},
   "outputs": [
    {
     "data": {
      "text/plain": [
       "array([[False, False, False],\n",
       "       [ True,  True,  True]])"
      ]
     },
     "execution_count": 150,
     "metadata": {},
     "output_type": "execute_result"
    }
   ],
   "source": [
    "arr2!=arr1"
   ]
  },
  {
   "cell_type": "markdown",
   "id": "f45bbb0e",
   "metadata": {},
   "source": [
    "## Sorting arrays"
   ]
  },
  {
   "cell_type": "code",
   "execution_count": 157,
   "id": "7a7eacef",
   "metadata": {},
   "outputs": [],
   "source": [
    "sort_array=np.random.randint(10,size=(3,5))"
   ]
  },
  {
   "cell_type": "code",
   "execution_count": 158,
   "id": "59e3a297",
   "metadata": {},
   "outputs": [
    {
     "data": {
      "text/plain": [
       "array([[9, 1, 7, 0, 6],\n",
       "       [9, 9, 7, 6, 9],\n",
       "       [1, 0, 1, 8, 8]])"
      ]
     },
     "execution_count": 158,
     "metadata": {},
     "output_type": "execute_result"
    }
   ],
   "source": [
    "sort_array"
   ]
  },
  {
   "cell_type": "code",
   "execution_count": 159,
   "id": "91a2c044",
   "metadata": {},
   "outputs": [
    {
     "data": {
      "text/plain": [
       "array([[0, 1, 6, 7, 9],\n",
       "       [6, 7, 9, 9, 9],\n",
       "       [0, 1, 1, 8, 8]])"
      ]
     },
     "execution_count": 159,
     "metadata": {},
     "output_type": "execute_result"
    }
   ],
   "source": [
    "np.sort(sort_array)"
   ]
  },
  {
   "cell_type": "code",
   "execution_count": 160,
   "id": "3eeda089",
   "metadata": {},
   "outputs": [
    {
     "data": {
      "text/plain": [
       "array([[3, 1, 4, 2, 0],\n",
       "       [3, 2, 0, 1, 4],\n",
       "       [1, 0, 2, 3, 4]], dtype=int64)"
      ]
     },
     "execution_count": 160,
     "metadata": {},
     "output_type": "execute_result"
    }
   ],
   "source": [
    "#Know by array index to sort\n",
    "np.argsort(sort_array)"
   ]
  },
  {
   "cell_type": "code",
   "execution_count": 161,
   "id": "66e42088",
   "metadata": {},
   "outputs": [
    {
     "data": {
      "text/plain": [
       "array([1, 2, 3])"
      ]
     },
     "execution_count": 161,
     "metadata": {},
     "output_type": "execute_result"
    }
   ],
   "source": [
    "arr1"
   ]
  },
  {
   "cell_type": "code",
   "execution_count": 162,
   "id": "367dbc8c",
   "metadata": {},
   "outputs": [
    {
     "data": {
      "text/plain": [
       "9"
      ]
     },
     "execution_count": 162,
     "metadata": {},
     "output_type": "execute_result"
    }
   ],
   "source": [
    "np.max(sort_array)"
   ]
  },
  {
   "cell_type": "code",
   "execution_count": 163,
   "id": "ef9896b5",
   "metadata": {},
   "outputs": [
    {
     "data": {
      "text/plain": [
       "0"
      ]
     },
     "execution_count": 163,
     "metadata": {},
     "output_type": "execute_result"
    }
   ],
   "source": [
    "np.min(sort_array)"
   ]
  },
  {
   "cell_type": "code",
   "execution_count": 164,
   "id": "89ac9dbc",
   "metadata": {},
   "outputs": [
    {
     "data": {
      "text/plain": [
       "2"
      ]
     },
     "execution_count": 164,
     "metadata": {},
     "output_type": "execute_result"
    }
   ],
   "source": [
    "np.argmax(arr1)"
   ]
  },
  {
   "cell_type": "code",
   "execution_count": 165,
   "id": "b06a4dc3",
   "metadata": {},
   "outputs": [
    {
     "data": {
      "text/plain": [
       "array([0, 1, 0, 2, 1], dtype=int64)"
      ]
     },
     "execution_count": 165,
     "metadata": {},
     "output_type": "execute_result"
    }
   ],
   "source": [
    "np.argmax(sort_array,axis=0)"
   ]
  },
  {
   "cell_type": "code",
   "execution_count": 166,
   "id": "bffc95f7",
   "metadata": {},
   "outputs": [
    {
     "data": {
      "text/plain": [
       "array([0, 0, 3], dtype=int64)"
      ]
     },
     "execution_count": 166,
     "metadata": {},
     "output_type": "execute_result"
    }
   ],
   "source": [
    "np.argmax(sort_array,axis=1)"
   ]
  },
  {
   "cell_type": "markdown",
   "id": "c8485dbc",
   "metadata": {},
   "source": [
    "## Turn Images into numpy array"
   ]
  },
  {
   "cell_type": "code",
   "execution_count": 18,
   "id": "e88163ec",
   "metadata": {},
   "outputs": [],
   "source": [
    "from matplotlib.image import imread\n",
    "\n"
   ]
  },
  {
   "cell_type": "code",
   "execution_count": 40,
   "id": "4cf43c6a",
   "metadata": {},
   "outputs": [
    {
     "data": {
      "text/plain": [
       "13"
      ]
     },
     "execution_count": 40,
     "metadata": {},
     "output_type": "execute_result"
    }
   ],
   "source": [
    "5+8"
   ]
  },
  {
   "cell_type": "code",
   "execution_count": 48,
   "id": "4d64cdcc",
   "metadata": {},
   "outputs": [
    {
     "ename": "SyntaxError",
     "evalue": "invalid syntax (<ipython-input-48-316b4b620c12>, line 1)",
     "output_type": "error",
     "traceback": [
      "\u001b[1;36m  File \u001b[1;32m\"<ipython-input-48-316b4b620c12>\"\u001b[1;36m, line \u001b[1;32m1\u001b[0m\n\u001b[1;33m    <img  src=\"images/car.png\" />\u001b[0m\n\u001b[1;37m    ^\u001b[0m\n\u001b[1;31mSyntaxError\u001b[0m\u001b[1;31m:\u001b[0m invalid syntax\n"
     ]
    }
   ],
   "source": [
    "<img  src=\"images/car.png\" />"
   ]
  },
  {
   "cell_type": "markdown",
   "id": "4e5f89a0",
   "metadata": {},
   "source": [
    "![](images/panda.png)"
   ]
  },
  {
   "cell_type": "code",
   "execution_count": 62,
   "id": "2176f1c5",
   "metadata": {},
   "outputs": [
    {
     "data": {
      "text/plain": [
       "((2330, 3500, 3), 24465000, 3)"
      ]
     },
     "execution_count": 62,
     "metadata": {},
     "output_type": "execute_result"
    }
   ],
   "source": [
    "panda=imread(\"images/panda.png\")\n",
    "panda.shape, panda.size,panda.ndim"
   ]
  },
  {
   "cell_type": "code",
   "execution_count": 63,
   "id": "7553387e",
   "metadata": {},
   "outputs": [
    {
     "data": {
      "text/plain": [
       "array([[[0.05490196, 0.10588235, 0.06666667],\n",
       "        [0.05490196, 0.10588235, 0.06666667],\n",
       "        [0.05490196, 0.10588235, 0.06666667],\n",
       "        ...,\n",
       "        [0.16470589, 0.12941177, 0.09411765],\n",
       "        [0.16470589, 0.12941177, 0.09411765],\n",
       "        [0.16470589, 0.12941177, 0.09411765]],\n",
       "\n",
       "       [[0.05490196, 0.10588235, 0.06666667],\n",
       "        [0.05490196, 0.10588235, 0.06666667],\n",
       "        [0.05490196, 0.10588235, 0.06666667],\n",
       "        ...,\n",
       "        [0.16470589, 0.12941177, 0.09411765],\n",
       "        [0.16470589, 0.12941177, 0.09411765],\n",
       "        [0.16470589, 0.12941177, 0.09411765]],\n",
       "\n",
       "       [[0.05490196, 0.10588235, 0.06666667],\n",
       "        [0.05490196, 0.10588235, 0.06666667],\n",
       "        [0.05490196, 0.10588235, 0.06666667],\n",
       "        ...,\n",
       "        [0.16470589, 0.12941177, 0.09411765],\n",
       "        [0.16470589, 0.12941177, 0.09411765],\n",
       "        [0.16470589, 0.12941177, 0.09411765]],\n",
       "\n",
       "       ...,\n",
       "\n",
       "       [[0.13333334, 0.07450981, 0.05490196],\n",
       "        [0.12156863, 0.0627451 , 0.04313726],\n",
       "        [0.10980392, 0.05098039, 0.03137255],\n",
       "        ...,\n",
       "        [0.02745098, 0.02745098, 0.03529412],\n",
       "        [0.02745098, 0.02745098, 0.03529412],\n",
       "        [0.02745098, 0.02745098, 0.03529412]],\n",
       "\n",
       "       [[0.13333334, 0.07450981, 0.05490196],\n",
       "        [0.12156863, 0.0627451 , 0.04313726],\n",
       "        [0.12156863, 0.0627451 , 0.04313726],\n",
       "        ...,\n",
       "        [0.02352941, 0.02352941, 0.03137255],\n",
       "        [0.02352941, 0.02352941, 0.03137255],\n",
       "        [0.02352941, 0.02352941, 0.03137255]],\n",
       "\n",
       "       [[0.13333334, 0.07450981, 0.05490196],\n",
       "        [0.12156863, 0.0627451 , 0.04313726],\n",
       "        [0.12156863, 0.0627451 , 0.04313726],\n",
       "        ...,\n",
       "        [0.02352941, 0.02352941, 0.03137255],\n",
       "        [0.02352941, 0.02352941, 0.03137255],\n",
       "        [0.02352941, 0.02352941, 0.03137255]]], dtype=float32)"
      ]
     },
     "execution_count": 63,
     "metadata": {},
     "output_type": "execute_result"
    }
   ],
   "source": [
    "panda"
   ]
  },
  {
   "cell_type": "code",
   "execution_count": 64,
   "id": "a92523e5",
   "metadata": {},
   "outputs": [],
   "source": [
    "pan1=panda[:5]"
   ]
  },
  {
   "cell_type": "code",
   "execution_count": 65,
   "id": "ebad7d28",
   "metadata": {},
   "outputs": [
    {
     "data": {
      "text/plain": [
       "array([[[0.05490196, 0.10588235, 0.06666667],\n",
       "        [0.05490196, 0.10588235, 0.06666667],\n",
       "        [0.05490196, 0.10588235, 0.06666667],\n",
       "        ...,\n",
       "        [0.16470589, 0.12941177, 0.09411765],\n",
       "        [0.16470589, 0.12941177, 0.09411765],\n",
       "        [0.16470589, 0.12941177, 0.09411765]],\n",
       "\n",
       "       [[0.05490196, 0.10588235, 0.06666667],\n",
       "        [0.05490196, 0.10588235, 0.06666667],\n",
       "        [0.05490196, 0.10588235, 0.06666667],\n",
       "        ...,\n",
       "        [0.16470589, 0.12941177, 0.09411765],\n",
       "        [0.16470589, 0.12941177, 0.09411765],\n",
       "        [0.16470589, 0.12941177, 0.09411765]],\n",
       "\n",
       "       [[0.05490196, 0.10588235, 0.06666667],\n",
       "        [0.05490196, 0.10588235, 0.06666667],\n",
       "        [0.05490196, 0.10588235, 0.06666667],\n",
       "        ...,\n",
       "        [0.16470589, 0.12941177, 0.09411765],\n",
       "        [0.16470589, 0.12941177, 0.09411765],\n",
       "        [0.16470589, 0.12941177, 0.09411765]],\n",
       "\n",
       "       [[0.05490196, 0.10588235, 0.06666667],\n",
       "        [0.05490196, 0.10588235, 0.06666667],\n",
       "        [0.05490196, 0.10588235, 0.06666667],\n",
       "        ...,\n",
       "        [0.16862746, 0.13333334, 0.09803922],\n",
       "        [0.16862746, 0.13333334, 0.09803922],\n",
       "        [0.16862746, 0.13333334, 0.09803922]],\n",
       "\n",
       "       [[0.05490196, 0.10588235, 0.06666667],\n",
       "        [0.05490196, 0.10588235, 0.06666667],\n",
       "        [0.05490196, 0.10588235, 0.06666667],\n",
       "        ...,\n",
       "        [0.16862746, 0.13333334, 0.09803922],\n",
       "        [0.16862746, 0.13333334, 0.09803922],\n",
       "        [0.16862746, 0.13333334, 0.09803922]]], dtype=float32)"
      ]
     },
     "execution_count": 65,
     "metadata": {},
     "output_type": "execute_result"
    }
   ],
   "source": [
    "pan1"
   ]
  },
  {
   "cell_type": "code",
   "execution_count": 66,
   "id": "514a2a58",
   "metadata": {},
   "outputs": [
    {
     "data": {
      "text/plain": [
       "dtype('float32')"
      ]
     },
     "execution_count": 66,
     "metadata": {},
     "output_type": "execute_result"
    }
   ],
   "source": [
    "panda.dtype"
   ]
  },
  {
   "cell_type": "code",
   "execution_count": 67,
   "id": "d8f9f503",
   "metadata": {},
   "outputs": [
    {
     "data": {
      "text/plain": [
       "numpy.ndarray"
      ]
     },
     "execution_count": 67,
     "metadata": {},
     "output_type": "execute_result"
    }
   ],
   "source": [
    "type(panda)"
   ]
  },
  {
   "cell_type": "code",
   "execution_count": null,
   "id": "0101d0ae",
   "metadata": {},
   "outputs": [],
   "source": []
  }
 ],
 "metadata": {
  "kernelspec": {
   "display_name": "Python 3",
   "language": "python",
   "name": "python3"
  },
  "language_info": {
   "codemirror_mode": {
    "name": "ipython",
    "version": 3
   },
   "file_extension": ".py",
   "mimetype": "text/x-python",
   "name": "python",
   "nbconvert_exporter": "python",
   "pygments_lexer": "ipython3",
   "version": "3.9.5"
  }
 },
 "nbformat": 4,
 "nbformat_minor": 5
}
